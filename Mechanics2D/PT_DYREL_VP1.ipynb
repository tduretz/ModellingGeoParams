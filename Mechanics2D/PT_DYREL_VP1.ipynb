{
 "cells": [
  {
   "cell_type": "code",
   "execution_count": 1,
   "metadata": {},
   "outputs": [],
   "source": [
    "from sympy import *"
   ]
  },
  {
   "cell_type": "markdown",
   "metadata": {},
   "source": [
    "### Oakley (1995) analysis\n",
    "VP formulation with similar iteration parameters for momentum and continuity\n"
   ]
  },
  {
   "cell_type": "code",
   "execution_count": 2,
   "metadata": {},
   "outputs": [
    {
     "data": {
      "text/latex": [
       "$\\displaystyle - K V^{n} - P^{n} Q + bv$"
      ],
      "text/plain": [
       "-K*V^n - P^n*Q + bv"
      ]
     },
     "metadata": {},
     "output_type": "display_data"
    },
    {
     "data": {
      "text/latex": [
       "$\\displaystyle - Qt V^{n} + bp$"
      ],
      "text/plain": [
       "-Qt*V^n + bp"
      ]
     },
     "metadata": {},
     "output_type": "display_data"
    }
   ],
   "source": [
    "bv, K,  Q, Vn, Vn0 = symbols('bv, K, Q, V^n, V^n-1')\n",
    "bp, Qt, M, Pn, Pn0 = symbols('bp, Qt, M, P^n, P^n-1')\n",
    "M  = 0\n",
    "Fv = bv - K*Vn - Q*Pn\n",
    "Fp = bp - Qt*Vn - M*Pn\n",
    "display(Fv)\n",
    "display(Fp)"
   ]
  },
  {
   "cell_type": "code",
   "execution_count": 3,
   "metadata": {},
   "outputs": [],
   "source": [
    "h = symbols('h')\n",
    "Vn05 = (Vn - Vn0)/h\n",
    "Pn05 = (Pn - Pn0)/h"
   ]
  },
  {
   "cell_type": "code",
   "execution_count": 4,
   "metadata": {},
   "outputs": [
    {
     "data": {
      "text/latex": [
       "$\\displaystyle V^{n} + \\alpha \\left(- K V^{n} - P^{n} Q + bv\\right) + \\beta \\left(V^{n} - V^{n-1}\\right)$"
      ],
      "text/plain": [
       "V^n + alpha*(-K*V^n - P^n*Q + bv) + beta*(V^n - V^n-1)"
      ]
     },
     "metadata": {},
     "output_type": "display_data"
    },
    {
     "data": {
      "text/latex": [
       "$\\displaystyle P^{n} + \\alpha \\left(- Qt V^{n} + bp\\right) + \\beta \\left(P^{n} - P^{n-1}\\right)$"
      ],
      "text/plain": [
       "P^n + alpha*(-Qt*V^n + bp) + beta*(P^n - P^n-1)"
      ]
     },
     "metadata": {},
     "output_type": "display_data"
    }
   ],
   "source": [
    "b, a = symbols('beta, alpha')\n",
    "Vn1 = Vn + b*h*Vn05 + a*Fv\n",
    "Pn1 = Pn + b*h*Pn05 + a*Fp\n",
    "display(Vn1)\n",
    "display(Pn1)"
   ]
  },
  {
   "cell_type": "code",
   "execution_count": 5,
   "metadata": {},
   "outputs": [
    {
     "data": {
      "text/latex": [
       "$\\displaystyle K V^{*} \\alpha + K \\alpha e^{n}_{v} + P^{*} Q \\alpha + Q \\alpha e^{n}_{p} - \\alpha bv - \\beta e^{n}_{v} + \\beta e^{n-1}_{v} - e^{n}_{v} + e^{n+1}_{v}$"
      ],
      "text/plain": [
       "K*V^**alpha + K*alpha*e_v^n + P^**Q*alpha + Q*alpha*e_p^n - alpha*bv - beta*e_v^n + beta*e_v^n-1 - e_v^n + e_v^n+1"
      ]
     },
     "execution_count": 5,
     "metadata": {},
     "output_type": "execute_result"
    }
   ],
   "source": [
    "# Introduce error in momentum\n",
    "V_exact, evn, evn0, evn1 = symbols('V^*, e_v^n, e_v^n-1, e_v^n+1')\n",
    "P_exact, epn, epn0, epn1 = symbols('P^*, e_p^n, e_p^n-1, e_p^n+1')\n",
    "fv = evn1+V_exact - Vn1.subs(Vn, evn+V_exact).subs(Vn0, evn0+V_exact).subs(Pn, epn+P_exact)\n",
    "fv = fv.expand()#.subs(K*V_exact, bv)\n",
    "fv"
   ]
  },
  {
   "cell_type": "code",
   "execution_count": 6,
   "metadata": {},
   "outputs": [
    {
     "data": {
      "text/latex": [
       "$\\displaystyle Qt V^{*} \\alpha + Qt \\alpha e^{n}_{v} - \\alpha bp - \\beta e^{n}_{p} + \\beta e^{n-1}_{p} - e^{n}_{p} + e^{n+1}_{p}$"
      ],
      "text/plain": [
       "Qt*V^**alpha + Qt*alpha*e_v^n - alpha*bp - beta*e_p^n + beta*e_p^n-1 - e_p^n + e_p^n+1"
      ]
     },
     "execution_count": 6,
     "metadata": {},
     "output_type": "execute_result"
    }
   ],
   "source": [
    "# Introduce error in continuity\n",
    "fp = epn1+P_exact - Pn1.subs(Pn, epn+P_exact).subs(Pn0, epn0+P_exact).subs(Vn, evn+V_exact)\n",
    "fp = fp.expand()#.subs(K*V_exact, bv)\n",
    "fp"
   ]
  },
  {
   "cell_type": "code",
   "execution_count": 7,
   "metadata": {},
   "outputs": [
    {
     "data": {
      "text/latex": [
       "$\\displaystyle - K \\alpha e^{n}_{v} - Q \\alpha e^{n}_{p} + \\beta e^{n}_{v} - \\beta e^{n-1}_{v} + e^{n}_{v}$"
      ],
      "text/plain": [
       "-K*alpha*e_v^n - Q*alpha*e_p^n + beta*e_v^n - beta*e_v^n-1 + e_v^n"
      ]
     },
     "metadata": {},
     "output_type": "display_data"
    },
    {
     "data": {
      "text/latex": [
       "$\\displaystyle - Qt \\alpha e^{n}_{v} + \\beta e^{n}_{p} - \\beta e^{n-1}_{p} + e^{n}_{p}$"
      ],
      "text/plain": [
       "-Qt*alpha*e_v^n + beta*e_p^n - beta*e_p^n-1 + e_p^n"
      ]
     },
     "metadata": {},
     "output_type": "display_data"
    }
   ],
   "source": [
    "# Solve for new error - A.6\n",
    "err_new  = solve([fv,fp], [evn1,epn1])\n",
    "errv_new = err_new[evn1].subs(K*V_exact, bv).subs(P_exact*Q,0)\n",
    "errp_new = err_new[epn1].subs(Qt*V_exact, bp).subs(P_exact*M,0)\n",
    "display(errv_new)\n",
    "display(errp_new)"
   ]
  },
  {
   "cell_type": "code",
   "execution_count": 8,
   "metadata": {},
   "outputs": [
    {
     "data": {
      "text/latex": [
       "$\\displaystyle \\frac{\\alpha \\kappa_{v} \\left(K e^{n}_{v} + Q e^{n}_{p}\\right) + \\beta e^{n}_{v} + e^{n}_{v} \\kappa_{v} \\left(- \\beta + \\kappa_{v} - 1\\right)}{\\alpha \\kappa_{v}}$"
      ],
      "text/plain": [
       "(alpha*kappa_v*(K*e_v^n + Q*e_p^n) + beta*e_v^n + e_v^n*kappa_v*(-beta + kappa_v - 1))/(alpha*kappa_v)"
      ]
     },
     "metadata": {},
     "output_type": "display_data"
    },
    {
     "data": {
      "text/latex": [
       "$\\displaystyle \\frac{Qt \\alpha e^{n}_{v} \\kappa_{p} + \\beta e^{n}_{p} + e^{n}_{p} \\kappa_{p} \\left(- \\beta + \\kappa_{p} - 1\\right)}{\\alpha \\kappa_{p}}$"
      ],
      "text/plain": [
       "(Qt*alpha*e_v^n*kappa_p + beta*e_p^n + e_p^n*kappa_p*(-beta + kappa_p - 1))/(alpha*kappa_p)"
      ]
     },
     "metadata": {},
     "output_type": "display_data"
    }
   ],
   "source": [
    "# Introduce en+1 = K*en - A.9\n",
    "kv, kp = symbols('kappa_v, kappa_p')\n",
    "gv = kv*evn - errv_new\n",
    "gv = together(gv.subs(evn0, evn/kv))*kv\n",
    "hv = (gv / (kv*a)).expand().simplify()\n",
    "display(hv)\n",
    "gp = kp*epn - errp_new\n",
    "gp = together(gp.subs(epn0, epn/kp))*kp\n",
    "hp = (gp / (kp*a)).expand().simplify()\n",
    "display(hp)"
   ]
  },
  {
   "cell_type": "code",
   "execution_count": 9,
   "metadata": {},
   "outputs": [
    {
     "data": {
      "text/latex": [
       "$\\displaystyle \\lambda_{v} + \\frac{\\beta + \\kappa_{v} \\left(- \\beta + \\kappa_{v} - 1\\right)}{\\alpha \\kappa_{v}}$"
      ],
      "text/plain": [
       "lambda_v + (beta + kappa_v*(-beta + kappa_v - 1))/(alpha*kappa_v)"
      ]
     },
     "metadata": {},
     "output_type": "display_data"
    },
    {
     "data": {
      "text/latex": [
       "$\\displaystyle \\lambda_{p} + \\frac{\\beta + \\kappa_{p} \\left(- \\beta + \\kappa_{p} - 1\\right)}{\\alpha \\kappa_{p}}$"
      ],
      "text/plain": [
       "lambda_p + (beta + kappa_p*(-beta + kappa_p - 1))/(alpha*kappa_p)"
      ]
     },
     "metadata": {},
     "output_type": "display_data"
    }
   ],
   "source": [
    "# Solve for lambda\n",
    "lamv1, lamp1 = symbols('lambda_v, lambda_p')\n",
    "lamv  = (hv - evn*K - epn*Q) \n",
    "iv    = lamv.expand().simplify()/evn + lamv1\n",
    "lamp  = (hp - epn*M - evn*Qt) \n",
    "ip    = lamp.expand().simplify()/epn + lamp1\n",
    "display(iv)\n",
    "display(ip)"
   ]
  },
  {
   "cell_type": "code",
   "execution_count": 10,
   "metadata": {},
   "outputs": [
    {
     "data": {
      "text/latex": [
       "$\\displaystyle - \\frac{\\alpha \\lambda_{v}}{2} + \\frac{\\beta}{2} - \\frac{\\sqrt{\\alpha^{2} \\lambda_{v}^{2} - 2 \\alpha \\beta \\lambda_{v} - 2 \\alpha \\lambda_{v} + \\beta^{2} - 2 \\beta + 1}}{2} + \\frac{1}{2}$"
      ],
      "text/plain": [
       "-alpha*lambda_v/2 + beta/2 - sqrt(alpha**2*lambda_v**2 - 2*alpha*beta*lambda_v - 2*alpha*lambda_v + beta**2 - 2*beta + 1)/2 + 1/2"
      ]
     },
     "metadata": {},
     "output_type": "display_data"
    },
    {
     "data": {
      "text/latex": [
       "$\\displaystyle - \\frac{\\alpha \\lambda_{v}}{2} + \\frac{\\beta}{2} + \\frac{\\sqrt{\\alpha^{2} \\lambda_{v}^{2} - 2 \\alpha \\beta \\lambda_{v} - 2 \\alpha \\lambda_{v} + \\beta^{2} - 2 \\beta + 1}}{2} + \\frac{1}{2}$"
      ],
      "text/plain": [
       "-alpha*lambda_v/2 + beta/2 + sqrt(alpha**2*lambda_v**2 - 2*alpha*beta*lambda_v - 2*alpha*lambda_v + beta**2 - 2*beta + 1)/2 + 1/2"
      ]
     },
     "metadata": {},
     "output_type": "display_data"
    }
   ],
   "source": [
    "sol = solve(iv, kv)\n",
    "display(sol[0])\n",
    "display(sol[1])"
   ]
  },
  {
   "cell_type": "code",
   "execution_count": null,
   "metadata": {},
   "outputs": [],
   "source": []
  }
 ],
 "metadata": {
  "kernelspec": {
   "display_name": "Python 3",
   "language": "python",
   "name": "python3"
  },
  "language_info": {
   "codemirror_mode": {
    "name": "ipython",
    "version": 3
   },
   "file_extension": ".py",
   "mimetype": "text/x-python",
   "name": "python",
   "nbconvert_exporter": "python",
   "pygments_lexer": "ipython3",
   "version": "3.9.6"
  }
 },
 "nbformat": 4,
 "nbformat_minor": 2
}
