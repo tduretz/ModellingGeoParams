{
 "cells": [
  {
   "cell_type": "code",
   "execution_count": 15,
   "metadata": {},
   "outputs": [],
   "source": [
    "from sympy import *"
   ]
  },
  {
   "cell_type": "markdown",
   "metadata": {},
   "source": [
    "### x component *with velocity-pressure split* "
   ]
  },
  {
   "cell_type": "code",
   "execution_count": 30,
   "metadata": {},
   "outputs": [
    {
     "name": "stdout",
     "output_type": "stream",
     "text": [
      "cVxC  = -(-ηN ./ Δy - ηS ./ Δy) ./ Δy + ((4 // 3) * ηE ./ Δx + (4 // 3) * ηW ./ Δx) ./ Δx\n",
      "cVxW  = -4 // 3 * ηW ./ Δx .^ 2\n",
      "cVxE  = -4 // 3 * ηE ./ Δx .^ 2\n",
      "cVxS  = -ηS ./ Δy .^ 2\n",
      "cVxN  = -ηN ./ Δy .^ 2\n",
      "cVySW = -ηS ./ (Δx .* Δy) + (2 // 3) * ηW ./ (Δx .* Δy)\n",
      "cVySE = -2 // 3 * ηE ./ (Δx .* Δy) + ηS ./ (Δx .* Δy)\n",
      "cVyNW = ηN ./ (Δx .* Δy) - 2 // 3 * ηW ./ (Δx .* Δy)\n",
      "cVyNE = (2 // 3) * ηE ./ (Δx .* Δy) - ηN ./ (Δx .* Δy)\n",
      "Cx = (4 // 3) * abs(ηE ./ Δx .^ 2) + (4 // 3) * abs(ηW ./ Δx .^ 2) + abs(ηN ./ Δy .^ 2) + abs(ηS ./ Δy .^ 2) + abs(-(-ηN ./ Δy - ηS ./ Δy) ./ Δy + ((4 // 3) * ηE ./ Δx + (4 // 3) * ηW ./ Δx) ./ Δx)\n",
      "Cy = abs((2 // 3) * ηE ./ (Δx .* Δy) - ηN ./ (Δx .* Δy)) + abs((2 // 3) * ηE ./ (Δx .* Δy) - ηS ./ (Δx .* Δy)) + abs(ηN ./ (Δx .* Δy) - 2 // 3 * ηW ./ (Δx .* Δy)) + abs(ηS ./ (Δx .* Δy) - 2 // 3 * ηW ./ (Δx .* Δy))\n"
     ]
    }
   ],
   "source": [
    "VxW, VxC, VxE, VxS, VxN = symbols('VxW, VxC, VxE, VxS, VxN', real=True)\n",
    "VySW, VySE, VyNW, VyNE = symbols('VySW, VySE, VyNW, VyNE', real=True)\n",
    "eS, eN, eW, eE = symbols('ηS, ηN, ηW, ηE', real=True)\n",
    "PW, PE = symbols('PE, PW', real=True)\n",
    "dx, dy = symbols('Δx, Δy', real=True)\n",
    "\n",
    "divW = (VxC-VxW)/dx + (VyNW-VySW)/dy\n",
    "divE = (VxE-VxC)/dx + (VyNE-VySE)/dy\n",
    "ExxW = (VxC-VxW)/dx - Rational(1,3)*divW\n",
    "ExxE = (VxE-VxC)/dx - Rational(1,3)*divE\n",
    "ExyS = Rational(1,2)*((VxC-VxS)/dy + (VySE-VySW)/dx )\n",
    "ExyN = Rational(1,2)*((VxN-VxC)/dy + (VyNE-VyNW)/dx )\n",
    "TxxW = 2*eW*ExxW\n",
    "TxxE = 2*eE*ExxE\n",
    "TxyS = 2*eS*ExyS\n",
    "TxyN = 2*eN*ExyN\n",
    "fVx   = -(TxxE - TxxW)/dx - (TxyN - TxyS)/dy + (PE-PW)/dx\n",
    "\n",
    "print(\"cVxC  = \" + julia_code(diff(fVx, VxC)))\n",
    "print(\"cVxW  = \" + julia_code(diff(fVx, VxW)))\n",
    "print(\"cVxE  = \" + julia_code(diff(fVx, VxE)))\n",
    "print(\"cVxS  = \" + julia_code(diff(fVx, VxS)))\n",
    "print(\"cVxN  = \" + julia_code(diff(fVx, VxN)))\n",
    "print(\"cVySW = \" + julia_code(diff(fVx, VySW)))\n",
    "print(\"cVySE = \" + julia_code(diff(fVx, VySE)))\n",
    "print(\"cVyNW = \" + julia_code(diff(fVx, VyNW)))\n",
    "print(\"cVyNE = \" + julia_code(diff(fVx, VyNE)))\n",
    "\n",
    "# print(\"Cx = \" + julia_code( (abs(diff(fVx, VxC)))))\n",
    "print(\"Cx = \" + julia_code( (abs(diff(fVx, VxC)) + abs(diff(fVx, VxN)) + abs(diff(fVx, VxS)) + abs(diff(fVx, VxW)) + abs(diff(fVx, VxE))) ) )\n",
    "print(\"Cy = \" + julia_code( (abs(diff(fVx, VySW)) + abs(diff(fVx, VySE)) + abs(diff(fVx, VyNW)) + abs(diff(fVx, VyNE)))) ) "
   ]
  },
  {
   "cell_type": "markdown",
   "metadata": {},
   "source": [
    "### y component *with velocity-pressure split* "
   ]
  },
  {
   "cell_type": "code",
   "execution_count": 29,
   "metadata": {},
   "outputs": [
    {
     "name": "stdout",
     "output_type": "stream",
     "text": [
      "cVyC  = ((4 // 3) * ηN ./ Δy + (4 // 3) * ηS ./ Δy) ./ Δy - (-ηE ./ Δx - ηW ./ Δx) ./ Δx\n",
      "cVyW  = -ηW ./ Δx .^ 2\n",
      "cVyE  = -ηE ./ Δx .^ 2\n",
      "cVyS  = -4 // 3 * ηS ./ Δy .^ 2\n",
      "cVyN  = -4 // 3 * ηN ./ Δy .^ 2\n",
      "cVxSW = (2 // 3) * ηS ./ (Δx .* Δy) - ηW ./ (Δx .* Δy)\n",
      "cVxSE = ηE ./ (Δx .* Δy) - 2 // 3 * ηS ./ (Δx .* Δy)\n",
      "cVxNW = -2 // 3 * ηN ./ (Δx .* Δy) + ηW ./ (Δx .* Δy)\n",
      "cVxNE = -ηE ./ (Δx .* Δy) + (2 // 3) * ηN ./ (Δx .* Δy)\n",
      "Cy = abs(ηE ./ Δx .^ 2) + abs(ηW ./ Δx .^ 2) + (4 // 3) * abs(ηN ./ Δy .^ 2) + (4 // 3) * abs(ηS ./ Δy .^ 2) + abs(((4 // 3) * ηN ./ Δy + (4 // 3) * ηS ./ Δy) ./ Δy - (-ηE ./ Δx - ηW ./ Δx) ./ Δx)\n",
      "Cx = abs(ηE ./ (Δx .* Δy) - 2 // 3 * ηN ./ (Δx .* Δy)) + abs(ηE ./ (Δx .* Δy) - 2 // 3 * ηS ./ (Δx .* Δy)) + abs((2 // 3) * ηN ./ (Δx .* Δy) - ηW ./ (Δx .* Δy)) + abs((2 // 3) * ηS ./ (Δx .* Δy) - ηW ./ (Δx .* Δy))\n"
     ]
    }
   ],
   "source": [
    "VyW, VyC, VyE, VyS, VyN = symbols('VyW, VyC, VyE, VyS, VyN', real=True)\n",
    "VxSW, VxSE, VxNW, VxNE = symbols('VxSW, VxSE, VxNW, VxNE', real=True)\n",
    "eS, eN, eW, eE = symbols('ηS, ηN, ηW, ηE', real=True)\n",
    "PS, PN = symbols('PS, PN ', real=True)\n",
    "dx, dy = symbols('Δx, Δy', real=True)\n",
    "\n",
    "divS = (VyC-VyS)/dy + (VxSE-VxSW)/dx\n",
    "divN = (VyN-VyC)/dy + (VxNE-VxNW)/dx\n",
    "EyyS = (VyC-VyS)/dy - Rational(1,3)*divS\n",
    "EyyN = (VyN-VyC)/dy - Rational(1,3)*divN\n",
    "ExyW = Rational(1,2)*((VyC-VyW)/dx + (VxNW-VxSW)/dy )\n",
    "ExyE = Rational(1,2)*((VyE-VyC)/dx + (VxNE-VxSE)/dy )\n",
    "TyyS = 2*eS*EyyS\n",
    "TyyN = 2*eN*EyyN\n",
    "TxyW = 2*eW*ExyW\n",
    "TxyE = 2*eE*ExyE\n",
    "fVy  = -(TyyN - TyyS)/dy - (TxyE - TxyW)/dx + (PN-PS)/dy\n",
    "\n",
    "print(\"cVyC  = \" + julia_code(diff(fVy, VyC)))\n",
    "print(\"cVyW  = \" + julia_code(diff(fVy, VyW)))\n",
    "print(\"cVyE  = \" + julia_code(diff(fVy, VyE)))\n",
    "print(\"cVyS  = \" + julia_code(diff(fVy, VyS)))\n",
    "print(\"cVyN  = \" + julia_code(diff(fVy, VyN)))\n",
    "print(\"cVxSW = \" + julia_code(diff(fVy, VxSW)))\n",
    "print(\"cVxSE = \" + julia_code(diff(fVy, VxSE)))\n",
    "print(\"cVxNW = \" + julia_code(diff(fVy, VxNW)))\n",
    "print(\"cVxNE = \" + julia_code(diff(fVy, VxNE)))\n",
    "\n",
    "# print(\"Cy = \" + julia_code( (abs(diff(fVy, VyC)))))\n",
    "print(\"Cy = \" + julia_code( (abs(diff(fVy, VyC)) + abs(diff(fVy, VyN)) + abs(diff(fVy, VyS)) + abs(diff(fVy, VyW)) + abs(diff(fVy, VyE))) ) )\n",
    "print(\"Cx = \" + julia_code( (abs(diff(fVy, VxSW)) + abs(diff(fVy, VxSE)) + abs(diff(fVy, VxNW)) + abs(diff(fVy, VxNE)))) ) "
   ]
  },
  {
   "cell_type": "markdown",
   "metadata": {},
   "source": [
    "### x component *without velocity-pressure split* "
   ]
  },
  {
   "cell_type": "code",
   "execution_count": 18,
   "metadata": {},
   "outputs": [
    {
     "name": "stdout",
     "output_type": "stream",
     "text": [
      "cVxC  = -(-ηN ./ Δy - ηS ./ Δy) ./ Δy + (ebE ./ Δx + ebW ./ Δx) ./ Δx + ((4 // 3) * ηE ./ Δx + (4 // 3) * ηW ./ Δx) ./ Δx\n",
      "cVxW  = -ebW ./ Δx .^ 2 - 4 // 3 * ηW ./ Δx .^ 2\n",
      "cVxE  = -ebE ./ Δx .^ 2 - 4 // 3 * ηE ./ Δx .^ 2\n",
      "cVxS  = -ηS ./ Δy .^ 2\n",
      "cVxN  = -ηN ./ Δy .^ 2\n",
      "cVySW = -ebW ./ (Δx .* Δy) - ηS ./ (Δx .* Δy) + (2 // 3) * ηW ./ (Δx .* Δy)\n",
      "cVySE = ebE ./ (Δx .* Δy) - 2 // 3 * ηE ./ (Δx .* Δy) + ηS ./ (Δx .* Δy)\n",
      "cVyNW = ebW ./ (Δx .* Δy) + ηN ./ (Δx .* Δy) - 2 // 3 * ηW ./ (Δx .* Δy)\n",
      "cVyNE = -ebE ./ (Δx .* Δy) + (2 // 3) * ηE ./ (Δx .* Δy) - ηN ./ (Δx .* Δy)\n"
     ]
    }
   ],
   "source": [
    "VxW, VxC, VxE, VxS, VxN = symbols('VxW, VxC, VxE, VxS, VxN', real=True)\n",
    "VySW, VySE, VyNW, VyNE = symbols('VySW, VySE, VyNW, VyNE', real=True)\n",
    "eS, eN, eW, eE = symbols('ηS, ηN, ηW, ηE', real=True)\n",
    "ebW, ebE = symbols('ebW, ebE', real=True)\n",
    "\n",
    "dx, dy = symbols('Δx, Δy', real=True)\n",
    "\n",
    "divW = (VxC-VxW)/dx + (VyNW-VySW)/dy\n",
    "divE = (VxE-VxC)/dx + (VyNE-VySE)/dy\n",
    "ExxW = (VxC-VxW)/dx - Rational(1,3)*divW\n",
    "ExxE = (VxE-VxC)/dx - Rational(1,3)*divE\n",
    "ExyS = Rational(1,2)*((VxC-VxS)/dy + (VySE-VySW)/dx )\n",
    "ExyN = Rational(1,2)*((VxN-VxC)/dy + (VyNE-VyNW)/dx )\n",
    "TxxW = 2*eW*ExxW\n",
    "TxxE = 2*eE*ExxE\n",
    "TxyS = 2*eS*ExyS\n",
    "TxyN = 2*eN*ExyN\n",
    "PW   = -ebW*divW \n",
    "PE   = -ebE*divE\n",
    "fVx   = -(TxxE - TxxW)/dx -(TxyN - TxyS)/dy + (PE-PW)/dx\n",
    "\n",
    "print(\"cVxC  = \" + julia_code(diff(fVx, VxC)))\n",
    "print(\"cVxW  = \" + julia_code(diff(fVx, VxW)))\n",
    "print(\"cVxE  = \" + julia_code(diff(fVx, VxE)))\n",
    "print(\"cVxS  = \" + julia_code(diff(fVx, VxS)))\n",
    "print(\"cVxN  = \" + julia_code(diff(fVx, VxN)))\n",
    "print(\"cVySW = \" + julia_code(diff(fVx, VySW)))\n",
    "print(\"cVySE = \" + julia_code(diff(fVx, VySE)))\n",
    "print(\"cVyNW = \" + julia_code(diff(fVx, VyNW)))\n",
    "print(\"cVyNE = \" + julia_code(diff(fVx, VyNE)))"
   ]
  },
  {
   "cell_type": "markdown",
   "metadata": {},
   "source": [
    "### y component *without velocity-pressure split* "
   ]
  },
  {
   "cell_type": "code",
   "execution_count": 19,
   "metadata": {},
   "outputs": [
    {
     "name": "stdout",
     "output_type": "stream",
     "text": [
      "cVyC  = (ebN ./ Δy + ebS ./ Δy) ./ Δy + ((4 // 3) * ηN ./ Δy + (4 // 3) * ηS ./ Δy) ./ Δy - (-ηE ./ Δx - ηW ./ Δx) ./ Δx\n",
      "cVyW  = -ηW ./ Δx .^ 2\n",
      "cVyE  = -ηE ./ Δx .^ 2\n",
      "cVyS  = -ebS ./ Δy .^ 2 - 4 // 3 * ηS ./ Δy .^ 2\n",
      "cVyN  = -ebN ./ Δy .^ 2 - 4 // 3 * ηN ./ Δy .^ 2\n",
      "cVxSW = -ebS ./ (Δx .* Δy) + (2 // 3) * ηS ./ (Δx .* Δy) - ηW ./ (Δx .* Δy)\n",
      "cVxSE = ebS ./ (Δx .* Δy) + ηE ./ (Δx .* Δy) - 2 // 3 * ηS ./ (Δx .* Δy)\n",
      "cVxNW = ebN ./ (Δx .* Δy) - 2 // 3 * ηN ./ (Δx .* Δy) + ηW ./ (Δx .* Δy)\n",
      "cVxNE = -ebN ./ (Δx .* Δy) - ηE ./ (Δx .* Δy) + (2 // 3) * ηN ./ (Δx .* Δy)\n"
     ]
    }
   ],
   "source": [
    "VyW, VyC, VyE, VyS, VyN = symbols('VyW, VyC, VyE, VyS, VyN', real=True)\n",
    "VxSW, VxSE, VxNW, VxNE = symbols('VxSW, VxSE, VxNW, VxNE', real=True)\n",
    "eS, eN, eW, eE = symbols('ηS, ηN, ηW, ηE', real=True)\n",
    "ebS, ebN = symbols('ebS, ebN', real=True)\n",
    "dx, dy = symbols('Δx, Δy', real=True)\n",
    "\n",
    "divS = (VyC-VyS)/dy + (VxSE-VxSW)/dx\n",
    "divN = (VyN-VyC)/dy + (VxNE-VxNW)/dx\n",
    "EyyS = (VyC-VyS)/dy - Rational(1,3)*divS\n",
    "EyyN = (VyN-VyC)/dy - Rational(1,3)*divN\n",
    "ExyW = Rational(1,2)*((VyC-VyW)/dx + (VxNW-VxSW)/dy )\n",
    "ExyE = Rational(1,2)*((VyE-VyC)/dx + (VxNE-VxSE)/dy )\n",
    "TyyS = 2*eS*EyyS\n",
    "TyyN = 2*eN*EyyN\n",
    "TxyW = 2*eW*ExyW\n",
    "TxyE = 2*eE*ExyE\n",
    "PS   = -ebS*divS \n",
    "PN   = -ebN*divN\n",
    "fVy  = -(TyyN - TyyS)/dy - (TxyE - TxyW)/dx + (PN-PS)/dy\n",
    "\n",
    "print(\"cVyC  = \" + julia_code(diff(fVy, VyC)))\n",
    "print(\"cVyW  = \" + julia_code(diff(fVy, VyW)))\n",
    "print(\"cVyE  = \" + julia_code(diff(fVy, VyE)))\n",
    "print(\"cVyS  = \" + julia_code(diff(fVy, VyS)))\n",
    "print(\"cVyN  = \" + julia_code(diff(fVy, VyN)))\n",
    "print(\"cVxSW = \" + julia_code(diff(fVy, VxSW)))\n",
    "print(\"cVxSE = \" + julia_code(diff(fVy, VxSE)))\n",
    "print(\"cVxNW = \" + julia_code(diff(fVy, VxNW)))\n",
    "print(\"cVxNE = \" + julia_code(diff(fVy, VxNE)))"
   ]
  }
 ],
 "metadata": {
  "kernelspec": {
   "display_name": "Python 3",
   "language": "python",
   "name": "python3"
  },
  "language_info": {
   "codemirror_mode": {
    "name": "ipython",
    "version": 3
   },
   "file_extension": ".py",
   "mimetype": "text/x-python",
   "name": "python",
   "nbconvert_exporter": "python",
   "pygments_lexer": "ipython3",
   "version": "3.9.6"
  }
 },
 "nbformat": 4,
 "nbformat_minor": 2
}
