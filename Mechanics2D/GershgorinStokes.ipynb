{
 "cells": [
  {
   "cell_type": "code",
   "execution_count": 2,
   "metadata": {},
   "outputs": [],
   "source": [
    "from sympy import *"
   ]
  },
  {
   "cell_type": "code",
   "execution_count": 3,
   "metadata": {},
   "outputs": [
    {
     "data": {
      "text/latex": [
       "$\\displaystyle \\frac{4 \\left|{\\frac{eE}{dx^{2}}}\\right|}{3} + \\frac{4 \\left|{\\frac{eW}{dx^{2}}}\\right|}{3} + \\left|{\\frac{eN}{dy^{2}}}\\right| + \\left|{\\frac{eS}{dy^{2}}}\\right| + \\left|{- \\frac{- \\frac{eN}{dy} - \\frac{eS}{dy}}{dy} + \\frac{\\frac{4 eE}{3 dx} + \\frac{4 eW}{3 dx}}{dx}}\\right|$"
      ],
      "text/plain": [
       "4*Abs(eE/dx**2)/3 + 4*Abs(eW/dx**2)/3 + Abs(eN/dy**2) + Abs(eS/dy**2) + Abs(-(-eN/dy - eS/dy)/dy + (4*eE/(3*dx) + 4*eW/(3*dx))/dx)"
      ]
     },
     "metadata": {},
     "output_type": "display_data"
    },
    {
     "data": {
      "text/latex": [
       "$\\displaystyle \\frac{\\left|{\\frac{2 eE - 3 eN}{dx dy}}\\right|}{3} + \\frac{\\left|{\\frac{2 eE - 3 eS}{dx dy}}\\right|}{3} + \\frac{\\left|{\\frac{3 eN - 2 eW}{dx dy}}\\right|}{3} + \\frac{\\left|{\\frac{3 eS - 2 eW}{dx dy}}\\right|}{3}$"
      ],
      "text/plain": [
       "Abs((2*eE - 3*eN)/(dx*dy))/3 + Abs((2*eE - 3*eS)/(dx*dy))/3 + Abs((3*eN - 2*eW)/(dx*dy))/3 + Abs((3*eS - 2*eW)/(dx*dy))/3"
      ]
     },
     "metadata": {},
     "output_type": "display_data"
    }
   ],
   "source": [
    "VxW, VxC, VxE, VxS, VxN = symbols('VxW, VxC, VxE, VxS, VxN', real=True)\n",
    "VySW, VySE, VyNW, VyNE = symbols('VySW, VySE, VyNW, VyNE', real=True)\n",
    "eS, eN, eW, eE = symbols('eS, eN, eW, eE', real=True)\n",
    "PW, PE = symbols('PE, PW', real=True)\n",
    "dx, dy = symbols('dx, dy', real=True)\n",
    "\n",
    "divW = (VxC-VxW)/dx + (VyNW-VySW)/dy\n",
    "divE = (VxE-VxC)/dx + (VyNE-VySE)/dy\n",
    "ExxW = (VxC-VxW)/dx - Rational(1,3)*divW\n",
    "ExxE = (VxE-VxC)/dx - Rational(1,3)*divE\n",
    "ExyS = Rational(1,2)*((VxC-VxS)/dy + (VySE-VySW)/dx )\n",
    "ExyN = Rational(1,2)*((VxN-VxC)/dy + (VyNE-VyNW)/dx )\n",
    "TxxW = 2*eW*ExxW\n",
    "TxxE = 2*eE*ExxE\n",
    "TxyS = 2*eS*ExyS\n",
    "TxyN = 2*eN*ExyN\n",
    "fVx   = -(TxxE - TxxW)/dx -(TxyN - TxyS)/dy + (PE-PW)/dx\n",
    "display((abs(diff(fVx, VxC)) + abs(diff(fVx, VxN)) + abs(diff(fVx, VxS)) + abs(diff(fVx, VxW)) + abs(diff(fVx, VxE))) )\n",
    "display((abs(diff(fVx, VySW)) + abs(diff(fVx, VySE)) + abs(diff(fVx, VyNW)) + abs(diff(fVx, VyNE))).simplify())"
   ]
  },
  {
   "cell_type": "code",
   "execution_count": 9,
   "metadata": {},
   "outputs": [
    {
     "name": "stdout",
     "output_type": "stream",
     "text": [
      "cVxC  = -(-eN ./ dy - eS ./ dy) ./ dy + ((4 // 3) * eE ./ dx + (4 // 3) * eW ./ dx) ./ dx + (ebE ./ dx + ebW ./ dx) ./ dx\n",
      "cVxW  = -4 // 3 * eW ./ dx .^ 2 - ebW ./ dx .^ 2\n",
      "cVxE  = -4 // 3 * eE ./ dx .^ 2 - ebE ./ dx .^ 2\n",
      "cVxS  = -eS ./ dy .^ 2\n",
      "cVxN  = -eN ./ dy .^ 2\n",
      "cVySW = -eS ./ (dx .* dy) + (2 // 3) * eW ./ (dx .* dy) - ebW ./ (dx .* dy)\n",
      "cVySE = -2 // 3 * eE ./ (dx .* dy) + eS ./ (dx .* dy) + ebE ./ (dx .* dy)\n",
      "cVyNW = eN ./ (dx .* dy) - 2 // 3 * eW ./ (dx .* dy) + ebW ./ (dx .* dy)\n",
      "cVyNE = (2 // 3) * eE ./ (dx .* dy) - eN ./ (dx .* dy) - ebE ./ (dx .* dy)\n"
     ]
    }
   ],
   "source": [
    "VxW, VxC, VxE, VxS, VxN = symbols('VxW, VxC, VxE, VxS, VxN', real=True)\n",
    "VySW, VySE, VyNW, VyNE = symbols('VySW, VySE, VyNW, VyNE', real=True)\n",
    "eS, eN, eW, eE = symbols('eS, eN, eW, eE', real=True)\n",
    "ebW, ebE = symbols('ebW, ebE', real=True)\n",
    "\n",
    "dx, dy = symbols('dx, dy', real=True)\n",
    "\n",
    "divW = (VxC-VxW)/dx + (VyNW-VySW)/dy\n",
    "divE = (VxE-VxC)/dx + (VyNE-VySE)/dy\n",
    "ExxW = (VxC-VxW)/dx - Rational(1,3)*divW\n",
    "ExxE = (VxE-VxC)/dx - Rational(1,3)*divE\n",
    "ExyS = Rational(1,2)*((VxC-VxS)/dy + (VySE-VySW)/dx )\n",
    "ExyN = Rational(1,2)*((VxN-VxC)/dy + (VyNE-VyNW)/dx )\n",
    "TxxW = 2*eW*ExxW\n",
    "TxxE = 2*eE*ExxE\n",
    "TxyS = 2*eS*ExyS\n",
    "TxyN = 2*eN*ExyN\n",
    "PW   = -ebW*divW \n",
    "PE   = -ebE*divE\n",
    "fVx   = -(TxxE - TxxW)/dx -(TxyN - TxyS)/dy + (PE-PW)/dx\n",
    "\n",
    "# display((abs(diff(fVx, VxC)) + abs(diff(fVx, VxN)) + abs(diff(fVx, VxS)) + abs(diff(fVx, VxW)) + abs(diff(fVx, VxE))) )\n",
    "# display((abs(diff(fVx, VySW)) + abs(diff(fVx, VySE)) + abs(diff(fVx, VyNW)) + abs(diff(fVx, VyNE))).simplify())\n",
    "\n",
    "# display((diff(fVx, VxW)))\n",
    "\n",
    "print(\"cVxC  = \" + julia_code(diff(fVx, VxC)))\n",
    "print(\"cVxW  = \" + julia_code(diff(fVx, VxW)))\n",
    "print(\"cVxE  = \" + julia_code(diff(fVx, VxE)))\n",
    "print(\"cVxS  = \" + julia_code(diff(fVx, VxS)))\n",
    "print(\"cVxN  = \" + julia_code(diff(fVx, VxN)))\n",
    "print(\"cVySW = \" + julia_code(diff(fVx, VySW)))\n",
    "print(\"cVySE = \" + julia_code(diff(fVx, VySE)))\n",
    "print(\"cVyNW = \" + julia_code(diff(fVx, VyNW)))\n",
    "print(\"cVyNE = \" + julia_code(diff(fVx, VyNE)))\n",
    "\n"
   ]
  },
  {
   "cell_type": "code",
   "execution_count": 11,
   "metadata": {},
   "outputs": [
    {
     "name": "stdout",
     "output_type": "stream",
     "text": [
      "cVyC  = ((4 // 3) * eN ./ dy + (4 // 3) * eS ./ dy) ./ dy + (ebN ./ dy + ebS ./ dy) ./ dy - (-eE ./ dx - eW ./ dx) ./ dx\n",
      "cVyW  = -eW ./ dx .^ 2\n",
      "cVyE  = -eE ./ dx .^ 2\n",
      "cVyS  = -4 // 3 * eS ./ dy .^ 2 - ebS ./ dy .^ 2\n",
      "cVyN  = -4 // 3 * eN ./ dy .^ 2 - ebN ./ dy .^ 2\n",
      "cVxSW = (2 // 3) * eS ./ (dx .* dy) - eW ./ (dx .* dy) - ebS ./ (dx .* dy)\n",
      "cVxSE = eE ./ (dx .* dy) - 2 // 3 * eS ./ (dx .* dy) + ebS ./ (dx .* dy)\n",
      "cVxNW = -2 // 3 * eN ./ (dx .* dy) + eW ./ (dx .* dy) + ebN ./ (dx .* dy)\n",
      "cVxNE = -eE ./ (dx .* dy) + (2 // 3) * eN ./ (dx .* dy) - ebN ./ (dx .* dy)\n"
     ]
    }
   ],
   "source": [
    "VyW, VyC, VyE, VyS, VyN = symbols('VyW, VyC, VyE, VyS, VyN', real=True)\n",
    "VxSW, VxSE, VxNW, VxNE = symbols('VxSW, VxSE, VxNW, VxNE', real=True)\n",
    "eS, eN, eW, eE = symbols('eS, eN, eW, eE', real=True)\n",
    "ebS, ebN = symbols('ebS, ebN', real=True)\n",
    "\n",
    "dx, dy = symbols('dx, dy', real=True)\n",
    "\n",
    "divS = (VyC-VyS)/dy + (VxSE-VxSW)/dx\n",
    "divN = (VyN-VyC)/dy + (VxNE-VxNW)/dx\n",
    "EyyS = (VyC-VyS)/dy - Rational(1,3)*divS\n",
    "EyyN = (VyN-VyC)/dy - Rational(1,3)*divN\n",
    "ExyW = Rational(1,2)*((VyC-VyW)/dx + (VxNW-VxSW)/dy )\n",
    "ExyE = Rational(1,2)*((VyE-VyC)/dx + (VxNE-VxSE)/dy )\n",
    "TyyS = 2*eS*EyyS\n",
    "TyyN = 2*eN*EyyN\n",
    "TxyW = 2*eW*ExyW\n",
    "TxyE = 2*eE*ExyE\n",
    "PS   = -ebS*divS \n",
    "PN   = -ebN*divN\n",
    "fVy  = -(TyyN - TyyS)/dy - (TxyE - TxyW)/dx + (PN-PS)/dy\n",
    "\n",
    "# display((abs(diff(fVx, VxC)) + abs(diff(fVx, VxN)) + abs(diff(fVx, VxS)) + abs(diff(fVx, VxW)) + abs(diff(fVx, VxE))) )\n",
    "# display((abs(diff(fVx, VySW)) + abs(diff(fVx, VySE)) + abs(diff(fVx, VyNW)) + abs(diff(fVx, VyNE))).simplify())\n",
    "\n",
    "# display((diff(fVx, VxW)))\n",
    "\n",
    "print(\"cVyC  = \" + julia_code(diff(fVy, VyC)))\n",
    "print(\"cVyW  = \" + julia_code(diff(fVy, VyW)))\n",
    "print(\"cVyE  = \" + julia_code(diff(fVy, VyE)))\n",
    "print(\"cVyS  = \" + julia_code(diff(fVy, VyS)))\n",
    "print(\"cVyN  = \" + julia_code(diff(fVy, VyN)))\n",
    "print(\"cVxSW = \" + julia_code(diff(fVy, VxSW)))\n",
    "print(\"cVxSE = \" + julia_code(diff(fVy, VxSE)))\n",
    "print(\"cVxNW = \" + julia_code(diff(fVy, VxNW)))\n",
    "print(\"cVxNE = \" + julia_code(diff(fVy, VxNE)))"
   ]
  },
  {
   "cell_type": "code",
   "execution_count": 5,
   "metadata": {},
   "outputs": [
    {
     "data": {
      "text/latex": [
       "$\\displaystyle \\frac{D_{1} c h - 2 D_{1} - D_{2} c h + 2 D_{2} + 2 F h^{2}}{h \\left(c h + 2\\right)}$"
      ],
      "text/plain": [
       "(D1*c*h - 2*D1 - D2*c*h + 2*D2 + 2*F*h**2)/(h*(c*h + 2))"
      ]
     },
     "execution_count": 5,
     "metadata": {},
     "output_type": "execute_result"
    }
   ],
   "source": [
    "D0, D1, D2, h, c, F =  symbols('D0, D1, D2, h, c, F')\n",
    "Dd1  = 1/h*(D1-D0)\n",
    "Dd0  = 1/h*(D2-D1)\n",
    "Dd   = Rational(1,2)*(Dd1 + Dd0)\n",
    "Ddd  = 1/h*(Dd1-Dd0)\n",
    "f = Ddd + c*Dd - F\n",
    "solve(f, Dd1)[0]"
   ]
  },
  {
   "cell_type": "code",
   "execution_count": 6,
   "metadata": {},
   "outputs": [
    {
     "data": {
      "text/latex": [
       "$\\displaystyle - \\frac{\\dot{D}_{0} \\left(c h - 2\\right) - 2 F h}{c h + 2}$"
      ],
      "text/plain": [
       "-(Ddot0*(c*h - 2) - 2*F*h)/(c*h + 2)"
      ]
     },
     "execution_count": 6,
     "metadata": {},
     "output_type": "execute_result"
    }
   ],
   "source": [
    "#  DYREL \n",
    "# D0, D1, D2, h, c, F =  symbols('D0, D1, D2, h, c, F')\n",
    "# Dd1  = 1/h*(D1-D0)\n",
    "# Dd0  = 1/h*(D2-D1)\n",
    "Dd1, Dd0 = symbols('Ddot1, Ddot0')\n",
    "Dd   = Rational(1,2)*(Dd1 + Dd0)\n",
    "Ddd  = 1/h*(Dd1-Dd0)\n",
    "f = Ddd + c*Dd - F\n",
    "solve(f, Dd1)[0].factor(Dd0)"
   ]
  }
 ],
 "metadata": {
  "kernelspec": {
   "display_name": "Python 3",
   "language": "python",
   "name": "python3"
  },
  "language_info": {
   "codemirror_mode": {
    "name": "ipython",
    "version": 3
   },
   "file_extension": ".py",
   "mimetype": "text/x-python",
   "name": "python",
   "nbconvert_exporter": "python",
   "pygments_lexer": "ipython3",
   "version": "3.9.6"
  }
 },
 "nbformat": 4,
 "nbformat_minor": 2
}
