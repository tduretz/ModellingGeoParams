{
 "cells": [
  {
   "cell_type": "code",
   "execution_count": 1,
   "metadata": {},
   "outputs": [],
   "source": [
    "from sympy import *"
   ]
  },
  {
   "cell_type": "code",
   "execution_count": 2,
   "metadata": {},
   "outputs": [
    {
     "data": {
      "text/latex": [
       "$\\displaystyle \\frac{D_{1} c h - 2 D_{1} - D_{2} c h + 2 D_{2} + 2 R h^{2}}{h \\left(c h + 2\\right)}$"
      ],
      "text/plain": [
       "(D1*c*h - 2*D1 - D2*c*h + 2*D2 + 2*R*h**2)/(h*(c*h + 2))"
      ]
     },
     "execution_count": 2,
     "metadata": {},
     "output_type": "execute_result"
    }
   ],
   "source": [
    "D0, D1, D2, h, c, R =  symbols('D0, D1, D2, h, c, R')\n",
    "Dd1  = 1/h*(D1-D0)\n",
    "Dd0  = 1/h*(D2-D1)\n",
    "Dd   = Rational(1,2)*(Dd1 + Dd0)\n",
    "Ddd  = 1/h*(Dd1-Dd0)\n",
    "f    = Ddd + c*Dd - R\n",
    "solve(f, Dd1)[0]"
   ]
  },
  {
   "cell_type": "markdown",
   "metadata": {},
   "source": [
    "#### Balance equation:\n",
    "$$ \\frac{\\partial^2 D}{\\partial t^2} + c\\frac{\\partial D}{\\partial t} = R"
   ]
  },
  {
   "cell_type": "code",
   "execution_count": 3,
   "metadata": {},
   "outputs": [
    {
     "data": {
      "text/latex": [
       "$\\displaystyle - \\frac{c h - 2}{c h + 2}$"
      ],
      "text/plain": [
       "-(c*h - 2)/(c*h + 2)"
      ]
     },
     "metadata": {},
     "output_type": "display_data"
    },
    {
     "data": {
      "text/latex": [
       "$\\displaystyle \\frac{2 h}{c h + 2}$"
      ],
      "text/plain": [
       "2*h/(c*h + 2)"
      ]
     },
     "metadata": {},
     "output_type": "display_data"
    }
   ],
   "source": [
    "Dd1, Dd0 = symbols('Ddot1, Ddot0')\n",
    "Dd   = Rational(1,2)*(Dd1 + Dd0)\n",
    "Ddd  = 1/h*(Dd1-Dd0)\n",
    "f    = Ddd + c*Dd - R\n",
    "rate_update = solve(f, Dd1)[0].factor(Dd0)\n",
    "display(rate_update.diff(Dd0))\n",
    "display(rate_update.diff(R))"
   ]
  },
  {
   "cell_type": "markdown",
   "metadata": {},
   "source": [
    "#### Balance equation:\n",
    "$$ h\\frac{\\partial^2 D}{\\partial t^2} + c\\frac{\\partial D}{\\partial t} = R"
   ]
  },
  {
   "cell_type": "code",
   "execution_count": 4,
   "metadata": {},
   "outputs": [
    {
     "data": {
      "text/latex": [
       "$\\displaystyle 1 - c$"
      ],
      "text/plain": [
       "1 - c"
      ]
     },
     "metadata": {},
     "output_type": "display_data"
    },
    {
     "data": {
      "text/latex": [
       "$\\displaystyle 1$"
      ],
      "text/plain": [
       "1"
      ]
     },
     "metadata": {},
     "output_type": "display_data"
    }
   ],
   "source": [
    "Dd1, Dd0 = symbols('Ddot1, Ddot0')\n",
    "Dd   = Rational(1,2)*(Dd1 + Dd0) # for the DYREL scheme\n",
    "Dd   = Dd0                       # for the PT scheme\n",
    "Ddd  = 1/h*(Dd1 - Dd0)\n",
    "f    = (Ddd*h + c*Dd - R)\n",
    "rate_update = solve(f, Dd1)[0]\n",
    "display(rate_update.diff(Dd0))\n",
    "display(rate_update.diff(R))"
   ]
  },
  {
   "cell_type": "markdown",
   "metadata": {},
   "source": [
    "### Oakley (1995) analysis\n"
   ]
  },
  {
   "cell_type": "code",
   "execution_count": 5,
   "metadata": {},
   "outputs": [],
   "source": [
    "P, K, Dn, Dn0 = symbols('P, K, D^n, D^n-1')\n",
    "F = P - K*Dn"
   ]
  },
  {
   "cell_type": "code",
   "execution_count": 6,
   "metadata": {},
   "outputs": [],
   "source": [
    "h = symbols('h')\n",
    "Dn05 = (Dn - Dn0)/h"
   ]
  },
  {
   "cell_type": "code",
   "execution_count": 7,
   "metadata": {},
   "outputs": [
    {
     "data": {
      "text/latex": [
       "$\\displaystyle D^{n} + \\alpha \\left(- D^{n} K + P\\right) + \\beta \\left(D^{n} - D^{n-1}\\right)$"
      ],
      "text/plain": [
       "D^n + alpha*(-D^n*K + P) + beta*(D^n - D^n-1)"
      ]
     },
     "execution_count": 7,
     "metadata": {},
     "output_type": "execute_result"
    }
   ],
   "source": [
    "b, a = symbols('beta, alpha')\n",
    "Dn1 = Dn + b*h*Dn05 + a*F\n",
    "Dn1"
   ]
  },
  {
   "cell_type": "code",
   "execution_count": 8,
   "metadata": {},
   "outputs": [],
   "source": [
    "# Introduce error\n",
    "D_exact, en, en0, en1 = symbols('D^*, e^n, e^n-1, e^n+1')\n",
    "f = en1+D_exact - Dn1.subs(Dn, en+D_exact).subs(Dn0, en0+D_exact)\n",
    "f = f.expand().subs(K*D_exact, P)"
   ]
  },
  {
   "cell_type": "code",
   "execution_count": 9,
   "metadata": {},
   "outputs": [
    {
     "data": {
      "text/latex": [
       "$\\displaystyle - \\beta e^{n-1} - e^{n} \\left(K \\alpha - \\beta - 1\\right)$"
      ],
      "text/plain": [
       "-beta*e^n-1 - e^n*(K*alpha - beta - 1)"
      ]
     },
     "execution_count": 9,
     "metadata": {},
     "output_type": "execute_result"
    }
   ],
   "source": [
    "# Solve for new error - A.6\n",
    "err_new = solve(f,en1)[0].factor(en)\n",
    "err_new"
   ]
  },
  {
   "cell_type": "code",
   "execution_count": 10,
   "metadata": {},
   "outputs": [
    {
     "data": {
      "text/latex": [
       "$\\displaystyle \\frac{e^{n} \\left(K \\alpha \\kappa + \\beta + \\kappa \\left(- \\beta + \\kappa - 1\\right)\\right)}{\\alpha \\kappa}$"
      ],
      "text/plain": [
       "e^n*(K*alpha*kappa + beta + kappa*(-beta + kappa - 1))/(alpha*kappa)"
      ]
     },
     "execution_count": 10,
     "metadata": {},
     "output_type": "execute_result"
    }
   ],
   "source": [
    "# Introduce en+1 = K*en - A.9\n",
    "k = symbols('kappa')\n",
    "g = k*en - err_new\n",
    "g = together(g.subs(en0, en/k))*k\n",
    "h = (g / (k*a)).expand().simplify()\n",
    "h"
   ]
  },
  {
   "cell_type": "code",
   "execution_count": 11,
   "metadata": {},
   "outputs": [
    {
     "data": {
      "text/latex": [
       "$\\displaystyle \\lambda + \\frac{\\beta + \\kappa \\left(- \\beta + \\kappa - 1\\right)}{\\alpha \\kappa}$"
      ],
      "text/plain": [
       "lambda + (beta + kappa*(-beta + kappa - 1))/(alpha*kappa)"
      ]
     },
     "execution_count": 11,
     "metadata": {},
     "output_type": "execute_result"
    }
   ],
   "source": [
    "# Solve for lambda\n",
    "lam1 = symbols('lambda')\n",
    "lam  = (h - en*K) \n",
    "i    = lam.expand().simplify()/en + lam1\n",
    "i"
   ]
  },
  {
   "cell_type": "code",
   "execution_count": 12,
   "metadata": {},
   "outputs": [
    {
     "data": {
      "text/latex": [
       "$\\displaystyle - \\frac{\\alpha \\lambda}{2} + \\frac{\\beta}{2} - \\frac{\\sqrt{\\alpha^{2} \\lambda^{2} - 2 \\alpha \\beta \\lambda - 2 \\alpha \\lambda + \\beta^{2} - 2 \\beta + 1}}{2} + \\frac{1}{2}$"
      ],
      "text/plain": [
       "-alpha*lambda/2 + beta/2 - sqrt(alpha**2*lambda**2 - 2*alpha*beta*lambda - 2*alpha*lambda + beta**2 - 2*beta + 1)/2 + 1/2"
      ]
     },
     "metadata": {},
     "output_type": "display_data"
    },
    {
     "data": {
      "text/latex": [
       "$\\displaystyle - \\frac{\\alpha \\lambda}{2} + \\frac{\\beta}{2} + \\frac{\\sqrt{\\alpha^{2} \\lambda^{2} - 2 \\alpha \\beta \\lambda - 2 \\alpha \\lambda + \\beta^{2} - 2 \\beta + 1}}{2} + \\frac{1}{2}$"
      ],
      "text/plain": [
       "-alpha*lambda/2 + beta/2 + sqrt(alpha**2*lambda**2 - 2*alpha*beta*lambda - 2*alpha*lambda + beta**2 - 2*beta + 1)/2 + 1/2"
      ]
     },
     "metadata": {},
     "output_type": "display_data"
    }
   ],
   "source": [
    "sol = solve(i, k)\n",
    "display(sol[0])\n",
    "display(sol[1])"
   ]
  },
  {
   "cell_type": "code",
   "execution_count": null,
   "metadata": {},
   "outputs": [],
   "source": []
  }
 ],
 "metadata": {
  "kernelspec": {
   "display_name": "Python 3",
   "language": "python",
   "name": "python3"
  },
  "language_info": {
   "codemirror_mode": {
    "name": "ipython",
    "version": 3
   },
   "file_extension": ".py",
   "mimetype": "text/x-python",
   "name": "python",
   "nbconvert_exporter": "python",
   "pygments_lexer": "ipython3",
   "version": "3.9.6"
  }
 },
 "nbformat": 4,
 "nbformat_minor": 2
}
