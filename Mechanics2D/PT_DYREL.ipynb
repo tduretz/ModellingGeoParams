{
 "cells": [
  {
   "cell_type": "code",
   "execution_count": 11,
   "metadata": {},
   "outputs": [],
   "source": [
    "from sympy import *"
   ]
  },
  {
   "cell_type": "code",
   "execution_count": 12,
   "metadata": {},
   "outputs": [
    {
     "data": {
      "text/latex": [
       "$\\displaystyle \\frac{D_{1} c h - 2 D_{1} - D_{2} c h + 2 D_{2} + 2 R h^{2}}{h \\left(c h + 2\\right)}$"
      ],
      "text/plain": [
       "(D1*c*h - 2*D1 - D2*c*h + 2*D2 + 2*R*h**2)/(h*(c*h + 2))"
      ]
     },
     "execution_count": 12,
     "metadata": {},
     "output_type": "execute_result"
    }
   ],
   "source": [
    "D0, D1, D2, h, c, R =  symbols('D0, D1, D2, h, c, R')\n",
    "Dd1  = 1/h*(D1-D0)\n",
    "Dd0  = 1/h*(D2-D1)\n",
    "Dd   = Rational(1,2)*(Dd1 + Dd0)\n",
    "Ddd  = 1/h*(Dd1-Dd0)\n",
    "f    = Ddd + c*Dd - R\n",
    "solve(f, Dd1)[0]"
   ]
  },
  {
   "cell_type": "markdown",
   "metadata": {},
   "source": [
    "#### Balance equation:\n",
    "$$ \\frac{\\partial^2 D}{\\partial t^2} + c\\frac{\\partial D}{\\partial t} = R"
   ]
  },
  {
   "cell_type": "code",
   "execution_count": 13,
   "metadata": {},
   "outputs": [
    {
     "data": {
      "text/latex": [
       "$\\displaystyle - \\frac{c h - 2}{c h + 2}$"
      ],
      "text/plain": [
       "-(c*h - 2)/(c*h + 2)"
      ]
     },
     "metadata": {},
     "output_type": "display_data"
    },
    {
     "data": {
      "text/latex": [
       "$\\displaystyle \\frac{2 h}{c h + 2}$"
      ],
      "text/plain": [
       "2*h/(c*h + 2)"
      ]
     },
     "metadata": {},
     "output_type": "display_data"
    }
   ],
   "source": [
    "Dd1, Dd0 = symbols('Ddot1, Ddot0')\n",
    "Dd   = Rational(1,2)*(Dd1 + Dd0)\n",
    "Ddd  = 1/h*(Dd1-Dd0)\n",
    "f    = Ddd + c*Dd - R\n",
    "rate_update = solve(f, Dd1)[0].factor(Dd0)\n",
    "display(rate_update.diff(Dd0))\n",
    "display(rate_update.diff(R))"
   ]
  },
  {
   "cell_type": "markdown",
   "metadata": {},
   "source": [
    "#### Balance equation:\n",
    "$$ h\\frac{\\partial^2 D}{\\partial t^2} + c\\frac{\\partial D}{\\partial t} = R"
   ]
  },
  {
   "cell_type": "code",
   "execution_count": 14,
   "metadata": {},
   "outputs": [
    {
     "data": {
      "text/latex": [
       "$\\displaystyle 1 - c$"
      ],
      "text/plain": [
       "1 - c"
      ]
     },
     "metadata": {},
     "output_type": "display_data"
    },
    {
     "data": {
      "text/latex": [
       "$\\displaystyle 1$"
      ],
      "text/plain": [
       "1"
      ]
     },
     "metadata": {},
     "output_type": "display_data"
    }
   ],
   "source": [
    "Dd1, Dd0 = symbols('Ddot1, Ddot0')\n",
    "Dd   = Rational(1,2)*(Dd1 + Dd0) # for the DYREL scheme\n",
    "Dd   = Dd0                       # for the PT scheme\n",
    "Ddd  = 1/h*(Dd1 - Dd0)\n",
    "f    = (Ddd*h + c*Dd - R)\n",
    "rate_update = solve(f, Dd1)[0]\n",
    "display(rate_update.diff(Dd0))\n",
    "display(rate_update.diff(R))"
   ]
  },
  {
   "cell_type": "markdown",
   "metadata": {},
   "source": [
    "### Oakley (1995) analysis\n"
   ]
  },
  {
   "cell_type": "code",
   "execution_count": 15,
   "metadata": {},
   "outputs": [],
   "source": [
    "F, K, Vn, Vn0, Qt = symbols('F, K, V^n, V^n-1, Qt')\n",
    "Rm = Fm -  K*Vn\n",
    "Rc =    - Qt*Vn"
   ]
  },
  {
   "cell_type": "code",
   "execution_count": 16,
   "metadata": {},
   "outputs": [
    {
     "ename": "NameError",
     "evalue": "name 'Dn' is not defined",
     "output_type": "error",
     "traceback": [
      "\u001b[0;31m---------------------------------------------------------------------------\u001b[0m",
      "\u001b[0;31mNameError\u001b[0m                                 Traceback (most recent call last)",
      "Cell \u001b[0;32mIn[16], line 2\u001b[0m\n\u001b[1;32m      1\u001b[0m h \u001b[38;5;241m=\u001b[39m symbols(\u001b[38;5;124m'\u001b[39m\u001b[38;5;124mh\u001b[39m\u001b[38;5;124m'\u001b[39m)\n\u001b[0;32m----> 2\u001b[0m Dn05 \u001b[38;5;241m=\u001b[39m (\u001b[43mDn\u001b[49m \u001b[38;5;241m-\u001b[39m Dn0)\u001b[38;5;241m/\u001b[39mh\n",
      "\u001b[0;31mNameError\u001b[0m: name 'Dn' is not defined"
     ]
    }
   ],
   "source": [
    "h = symbols('h')\n",
    "Dn05 = (Dn - Dn0)/h"
   ]
  },
  {
   "cell_type": "code",
   "execution_count": null,
   "metadata": {},
   "outputs": [
    {
     "data": {
      "text/latex": [
       "$\\displaystyle V^{n} + \\alpha \\left(Fm - K V^{n}\\right) + \\beta \\left(V^{n} - V^{n-1}\\right)$"
      ],
      "text/plain": [
       "V^n + alpha*(Fm - K*V^n) + beta*(V^n - V^n-1)"
      ]
     },
     "metadata": {},
     "output_type": "display_data"
    }
   ],
   "source": [
    "bm, am, bc, ac = symbols('beta_m, alpha_m, beta_c, alpha_c')\n",
    "Vn1 = Vn + b*hm*Vn05 + am*Rm\n",
    "Pn1 = Pn + bc*hc*Pn05 + ac*Rc\n",
    "display(Vn1)"
   ]
  },
  {
   "cell_type": "code",
   "execution_count": null,
   "metadata": {},
   "outputs": [
    {
     "data": {
      "text/latex": [
       "$\\displaystyle \\dot{D}_{0} c - \\dot{D}_{0} + \\dot{D}_{1} - R$"
      ],
      "text/plain": [
       "Ddot0*c - Ddot0 + Ddot1 - R"
      ]
     },
     "metadata": {},
     "output_type": "display_data"
    }
   ],
   "source": [
    "# Introduce error\n",
    "D_exact, en, en0, en1 = symbols('D^*, e^n, e^n-1, e^n+1')\n",
    "f = en1+D_exact - Dn1.subs(Dn, en+D_exact).subs(Dn0, en0+D_exact)\n",
    "f = f.expand().subs(K*D_exact, P)"
   ]
  },
  {
   "cell_type": "code",
   "execution_count": null,
   "metadata": {},
   "outputs": [
    {
     "ename": "NameError",
     "evalue": "name 'en1' is not defined",
     "output_type": "error",
     "traceback": [
      "\u001b[0;31m---------------------------------------------------------------------------\u001b[0m",
      "\u001b[0;31mNameError\u001b[0m                                 Traceback (most recent call last)",
      "Cell \u001b[0;32mIn[9], line 2\u001b[0m\n\u001b[1;32m      1\u001b[0m \u001b[38;5;66;03m# Solve for new error - A.6\u001b[39;00m\n\u001b[0;32m----> 2\u001b[0m err_new \u001b[38;5;241m=\u001b[39m solve(f,\u001b[43men1\u001b[49m)[\u001b[38;5;241m0\u001b[39m]\u001b[38;5;241m.\u001b[39mfactor(en)\n\u001b[1;32m      3\u001b[0m err_new\n",
      "\u001b[0;31mNameError\u001b[0m: name 'en1' is not defined"
     ]
    }
   ],
   "source": [
    "# Solve for new error - A.6\n",
    "err_new = solve(f,en1)[0].factor(en)\n",
    "err_new"
   ]
  },
  {
   "cell_type": "code",
   "execution_count": null,
   "metadata": {},
   "outputs": [
    {
     "ename": "NameError",
     "evalue": "name 'a' is not defined",
     "output_type": "error",
     "traceback": [
      "\u001b[0;31m---------------------------------------------------------------------------\u001b[0m",
      "\u001b[0;31mNameError\u001b[0m                                 Traceback (most recent call last)",
      "Cell \u001b[0;32mIn[21], line 5\u001b[0m\n\u001b[1;32m      3\u001b[0m g \u001b[38;5;241m=\u001b[39m k\u001b[38;5;241m*\u001b[39men \u001b[38;5;241m-\u001b[39m err_new\n\u001b[1;32m      4\u001b[0m g \u001b[38;5;241m=\u001b[39m together(g\u001b[38;5;241m.\u001b[39msubs(en0, en\u001b[38;5;241m/\u001b[39mk))\u001b[38;5;241m*\u001b[39mk\n\u001b[0;32m----> 5\u001b[0m h \u001b[38;5;241m=\u001b[39m (g \u001b[38;5;241m/\u001b[39m (k\u001b[38;5;241m*\u001b[39m\u001b[43ma\u001b[49m))\u001b[38;5;241m.\u001b[39mexpand()\u001b[38;5;241m.\u001b[39msimplify()\n\u001b[1;32m      6\u001b[0m h\n",
      "\u001b[0;31mNameError\u001b[0m: name 'a' is not defined"
     ]
    }
   ],
   "source": [
    "# Introduce en+1 = K*en - A.9\n",
    "k = symbols('kappa')\n",
    "g = k*en - err_new\n",
    "g = together(g.subs(en0, en/k))*k\n",
    "h = (g / (k*a)).expand().simplify()\n",
    "h"
   ]
  },
  {
   "cell_type": "code",
   "execution_count": null,
   "metadata": {},
   "outputs": [
    {
     "data": {
      "text/latex": [
       "$\\displaystyle \\lambda + \\frac{\\beta + \\kappa \\left(- \\beta + \\kappa - 1\\right)}{\\alpha \\kappa}$"
      ],
      "text/plain": [
       "lambda + (beta + kappa*(-beta + kappa - 1))/(alpha*kappa)"
      ]
     },
     "execution_count": 32,
     "metadata": {},
     "output_type": "execute_result"
    }
   ],
   "source": [
    "# Solve for lambda\n",
    "lam1 = symbols('lambda')\n",
    "lam  = (h - en*K) \n",
    "i    = lam.expand().simplify()/en + lam1\n",
    "i"
   ]
  },
  {
   "cell_type": "code",
   "execution_count": null,
   "metadata": {},
   "outputs": [
    {
     "data": {
      "text/latex": [
       "$\\displaystyle - \\frac{\\alpha \\lambda}{2} + \\frac{\\beta}{2} - \\frac{\\sqrt{\\alpha^{2} \\lambda^{2} - 2 \\alpha \\beta \\lambda - 2 \\alpha \\lambda + \\beta^{2} - 2 \\beta + 1}}{2} + \\frac{1}{2}$"
      ],
      "text/plain": [
       "-alpha*lambda/2 + beta/2 - sqrt(alpha**2*lambda**2 - 2*alpha*beta*lambda - 2*alpha*lambda + beta**2 - 2*beta + 1)/2 + 1/2"
      ]
     },
     "metadata": {},
     "output_type": "display_data"
    },
    {
     "data": {
      "text/latex": [
       "$\\displaystyle - \\frac{\\alpha \\lambda}{2} + \\frac{\\beta}{2} + \\frac{\\sqrt{\\alpha^{2} \\lambda^{2} - 2 \\alpha \\beta \\lambda - 2 \\alpha \\lambda + \\beta^{2} - 2 \\beta + 1}}{2} + \\frac{1}{2}$"
      ],
      "text/plain": [
       "-alpha*lambda/2 + beta/2 + sqrt(alpha**2*lambda**2 - 2*alpha*beta*lambda - 2*alpha*lambda + beta**2 - 2*beta + 1)/2 + 1/2"
      ]
     },
     "metadata": {},
     "output_type": "display_data"
    }
   ],
   "source": [
    "sol = solve(i, k)\n",
    "display(sol[0])\n",
    "display(sol[1])"
   ]
  },
  {
   "cell_type": "code",
   "execution_count": null,
   "metadata": {},
   "outputs": [],
   "source": []
  }
 ],
 "metadata": {
  "kernelspec": {
   "display_name": "Python 3",
   "language": "python",
   "name": "python3"
  },
  "language_info": {
   "codemirror_mode": {
    "name": "ipython",
    "version": 3
   },
   "file_extension": ".py",
   "mimetype": "text/x-python",
   "name": "python",
   "nbconvert_exporter": "python",
   "pygments_lexer": "ipython3",
   "version": "3.9.6"
  }
 },
 "nbformat": 4,
 "nbformat_minor": 2
}
