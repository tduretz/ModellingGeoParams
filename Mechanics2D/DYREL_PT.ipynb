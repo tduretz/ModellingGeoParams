{
 "cells": [
  {
   "cell_type": "code",
   "execution_count": null,
   "metadata": {},
   "outputs": [],
   "source": [
    "from sympy import *"
   ]
  },
  {
   "cell_type": "code",
   "execution_count": null,
   "metadata": {},
   "outputs": [],
   "source": [
    "D0, D1, D2, h, c, F =  symbols('D0, D1, D2, h, c, F')\n",
    "Dd1  = 1/h*(D1-D0)\n",
    "Dd0  = 1/h*(D2-D1)\n",
    "Dd   = Rational(1,2)*(Dd1 + Dd0)\n",
    "Ddd  = 1/h*(Dd1-Dd0)\n",
    "f = Ddd + c*Dd - F\n",
    "solve(f, Dd1)[0]"
   ]
  }
 ],
 "metadata": {
  "language_info": {
   "name": "python"
  }
 },
 "nbformat": 4,
 "nbformat_minor": 2
}
