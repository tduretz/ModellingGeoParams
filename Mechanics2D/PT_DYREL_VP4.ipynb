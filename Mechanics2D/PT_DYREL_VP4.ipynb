{
 "cells": [
  {
   "cell_type": "code",
   "execution_count": 1,
   "metadata": {},
   "outputs": [],
   "source": [
    "from sympy import *"
   ]
  },
  {
   "cell_type": "markdown",
   "metadata": {},
   "source": [
    "### Oakley (1995) analysis\n",
    "VP formulation with different iteration parameters for momentum and continuity\n"
   ]
  },
  {
   "cell_type": "code",
   "execution_count": 2,
   "metadata": {},
   "outputs": [
    {
     "data": {
      "text/latex": [
       "$\\displaystyle - K V^{n} - P^{n} Q + bv$"
      ],
      "text/plain": [
       "-K*V^n - P^n*Q + bv"
      ]
     },
     "metadata": {},
     "output_type": "display_data"
    },
    {
     "data": {
      "text/latex": [
       "$\\displaystyle - Qt V^{n} + bp$"
      ],
      "text/plain": [
       "-Qt*V^n + bp"
      ]
     },
     "metadata": {},
     "output_type": "display_data"
    }
   ],
   "source": [
    "bv, K,  Q, Vn, Vn0 = symbols('bv, K, Q, V^n, V^n-1')\n",
    "bp, Qt, M, Pn, Pn0 = symbols('bp, Qt, M, P^n, P^n-1')\n",
    "M  = 0\n",
    "Fv = bv - K*Vn - Q*Pn\n",
    "Fp = bp - Qt*Vn - M*Pn\n",
    "display(Fv)\n",
    "display(Fp)"
   ]
  },
  {
   "cell_type": "code",
   "execution_count": 3,
   "metadata": {},
   "outputs": [],
   "source": [
    "hv = symbols('hv')\n",
    "hp = symbols('hp')\n",
    "Vn05 = (Vn - Vn0)/hv\n",
    "Pn05 = (Pn - Pn0)/hp"
   ]
  },
  {
   "cell_type": "code",
   "execution_count": 4,
   "metadata": {},
   "outputs": [
    {
     "data": {
      "text/latex": [
       "$\\displaystyle P^{n} + \\alpha_{p} \\left(- Qt V^{n} + bp\\right) + \\beta_{p} \\left(P^{n} - P^{n-1}\\right)$"
      ],
      "text/plain": [
       "P^n + alpha_p*(-Qt*V^n + bp) + beta_p*(P^n - P^n-1)"
      ]
     },
     "metadata": {},
     "output_type": "display_data"
    }
   ],
   "source": [
    "betv, alpv = symbols('beta_v, alpha_v')\n",
    "betp, alpp = symbols('beta_p, alpha_p')\n",
    "Pn1 = Pn + betp*hp*Pn05 + alpp*Fp\n",
    "Fv  = bv - K*Vn - Q*Pn1\n",
    "display(Pn1)"
   ]
  },
  {
   "cell_type": "code",
   "execution_count": 6,
   "metadata": {},
   "outputs": [
    {
     "data": {
      "text/latex": [
       "$\\displaystyle V^{n} + \\alpha_{v} \\left(- K V^{n} - Q \\left(P^{n} + \\alpha_{p} \\left(- Qt V^{n} + bp\\right) + \\beta_{p} \\left(P^{n} - P^{n-1}\\right)\\right) + bv\\right) + \\beta_{v} \\left(V^{n} - V^{n-1}\\right)$"
      ],
      "text/plain": [
       "V^n + alpha_v*(-K*V^n - Q*(P^n + alpha_p*(-Qt*V^n + bp) + beta_p*(P^n - P^n-1)) + bv) + beta_v*(V^n - V^n-1)"
      ]
     },
     "metadata": {},
     "output_type": "display_data"
    }
   ],
   "source": [
    "Vn1 = Vn + betv*hv*Vn05 + alpv*Fv\n",
    "display(Vn1)"
   ]
  },
  {
   "cell_type": "code",
   "execution_count": 23,
   "metadata": {},
   "outputs": [
    {
     "data": {
      "text/latex": [
       "$\\displaystyle K V^{*} \\alpha_{v} + K \\alpha_{v} e^{n}_{v} + P^{*} Q \\alpha_{v} - Q Qt V^{*} \\alpha_{p} \\alpha_{v} - Q Qt \\alpha_{p} \\alpha_{v} e^{n}_{v} + Q \\alpha_{p} \\alpha_{v} bp + Q \\alpha_{v} \\beta_{p} e^{n}_{p} - Q \\alpha_{v} \\beta_{p} e^{n-1}_{p} + Q \\alpha_{v} e^{n}_{p} - \\alpha_{v} bv - \\beta_{v} e^{n}_{v} + \\beta_{v} e^{n-1}_{v} - e^{n}_{v} + e^{n+1}_{v}$"
      ],
      "text/plain": [
       "K*V^**alpha_v + K*alpha_v*e_v^n + P^**Q*alpha_v - Q*Qt*V^**alpha_p*alpha_v - Q*Qt*alpha_p*alpha_v*e_v^n + Q*alpha_p*alpha_v*bp + Q*alpha_v*beta_p*e_p^n - Q*alpha_v*beta_p*e_p^n-1 + Q*alpha_v*e_p^n - alpha_v*bv - beta_v*e_v^n + beta_v*e_v^n-1 - e_v^n + e_v^n+1"
      ]
     },
     "execution_count": 23,
     "metadata": {},
     "output_type": "execute_result"
    }
   ],
   "source": [
    "# Introduce error in momentum\n",
    "V_exact, evn, evn0, evn1 = symbols('V^*, e_v^n, e_v^n-1, e_v^n+1')\n",
    "P_exact, epn, epn0, epn1 = symbols('P^*, e_p^n, e_p^n-1, e_p^n+1')\n",
    "fv = evn1+V_exact - Vn1.subs(Vn, evn+V_exact).subs(Vn0, evn0+V_exact).subs(Pn, epn+P_exact).subs(Pn0, epn0+P_exact)\n",
    "fv = fv.expand()#.subs(K*V_exact, bv)\n",
    "fv"
   ]
  },
  {
   "cell_type": "code",
   "execution_count": 24,
   "metadata": {},
   "outputs": [
    {
     "data": {
      "text/latex": [
       "$\\displaystyle - K V^{*} \\alpha_{v} - K \\alpha_{v} e^{n}_{v} - P^{*} Q \\alpha_{v} + Q Qt V^{*} \\alpha_{p} \\alpha_{v} + Q Qt \\alpha_{p} \\alpha_{v} e^{n}_{v} - Q \\alpha_{p} \\alpha_{v} bp - Q \\alpha_{v} \\beta_{p} e^{n}_{p} + Q \\alpha_{v} \\beta_{p} e^{n-1}_{p} - Q \\alpha_{v} e^{n}_{p} + \\alpha_{v} bv + \\beta_{v} e^{n}_{v} - \\beta_{v} e^{n-1}_{v} + e^{n}_{v}$"
      ],
      "text/plain": [
       "-K*V^**alpha_v - K*alpha_v*e_v^n - P^**Q*alpha_v + Q*Qt*V^**alpha_p*alpha_v + Q*Qt*alpha_p*alpha_v*e_v^n - Q*alpha_p*alpha_v*bp - Q*alpha_v*beta_p*e_p^n + Q*alpha_v*beta_p*e_p^n-1 - Q*alpha_v*e_p^n + alpha_v*bv + beta_v*e_v^n - beta_v*e_v^n-1 + e_v^n"
      ]
     },
     "metadata": {},
     "output_type": "display_data"
    }
   ],
   "source": [
    "# Solve for new error - A.6\n",
    "errv_new  = solve(fv, evn1)[0]\n",
    "display(errv_new)"
   ]
  },
  {
   "cell_type": "code",
   "execution_count": 26,
   "metadata": {},
   "outputs": [
    {
     "data": {
      "text/latex": [
       "$\\displaystyle e^{n}_{p} \\left(Q \\beta_{p} - \\frac{Q \\beta_{p}}{\\kappa_{p}} + Q\\right) + e^{n}_{v} \\left(K - Q Qt \\alpha_{p} - \\frac{\\beta_{v}}{\\alpha_{v}} + \\frac{\\beta_{v}}{\\alpha_{v} \\kappa_{v}} + \\frac{\\kappa_{v}}{\\alpha_{v}} - \\frac{1}{\\alpha_{v}}\\right)$"
      ],
      "text/plain": [
       "e_p^n*(Q*beta_p - Q*beta_p/kappa_p + Q) + e_v^n*(K - Q*Qt*alpha_p - beta_v/alpha_v + beta_v/(alpha_v*kappa_v) + kappa_v/alpha_v - 1/alpha_v)"
      ]
     },
     "metadata": {},
     "output_type": "display_data"
    }
   ],
   "source": [
    "# Introduce en+1 = K*en - A.9\n",
    "kv, kp = symbols('kappa_v, kappa_p')\n",
    "gv = kv*evn - errv_new\n",
    "gv = together(gv.subs(evn0, evn/kv).subs(epn0, epn/kp))*kv\n",
    "hv = (gv / (kv*alpv)).expand().simplify()\n",
    "\n",
    "# Kill term that simplify due to balance equations\n",
    "hv = hv.subs(bv,0).subs(K*V_exact,0).subs(Q*P_exact,0)\n",
    "hv = hv.subs(Q*alpp*bp,0).subs(Q*Qt*V_exact*alpp,0)\n",
    "display(hv.collect(evn).collect(epn))"
   ]
  },
  {
   "cell_type": "code",
   "execution_count": 27,
   "metadata": {},
   "outputs": [
    {
     "data": {
      "text/latex": [
       "$\\displaystyle \\lambda_{v} + \\frac{- Q Qt \\alpha_{p} e^{n}_{v} + Q \\beta_{p} e^{n}_{p} - \\frac{Q \\beta_{p} e^{n}_{p}}{\\kappa_{p}} - \\frac{\\beta_{v} e^{n}_{v}}{\\alpha_{v}} + \\frac{\\beta_{v} e^{n}_{v}}{\\alpha_{v} \\kappa_{v}} + \\frac{e^{n}_{v} \\kappa_{v}}{\\alpha_{v}} - \\frac{e^{n}_{v}}{\\alpha_{v}}}{e^{n}_{v}}$"
      ],
      "text/plain": [
       "lambda_v + (-Q*Qt*alpha_p*e_v^n + Q*beta_p*e_p^n - Q*beta_p*e_p^n/kappa_p - beta_v*e_v^n/alpha_v + beta_v*e_v^n/(alpha_v*kappa_v) + e_v^n*kappa_v/alpha_v - e_v^n/alpha_v)/e_v^n"
      ]
     },
     "metadata": {},
     "output_type": "display_data"
    },
    {
     "data": {
      "text/latex": [
       "$\\displaystyle \\lambda_{p} + \\frac{- Qt e^{n}_{v} + hp}{e^{n}_{p}}$"
      ],
      "text/plain": [
       "lambda_p + (-Qt*e_v^n + hp)/e_p^n"
      ]
     },
     "metadata": {},
     "output_type": "display_data"
    }
   ],
   "source": [
    "# Solve for lambda\n",
    "lamv1, lamp1 = symbols('lambda_v, lambda_p')\n",
    "lamv  = (hv - evn*K - epn*Q) \n",
    "iv    = lamv.expand().simplify()/evn + lamv1\n",
    "lamp  = (hp - epn*M - evn*Qt) \n",
    "ip    = lamp.expand().simplify()/epn + lamp1\n",
    "display(iv)\n",
    "display(ip)"
   ]
  },
  {
   "cell_type": "code",
   "execution_count": 28,
   "metadata": {},
   "outputs": [
    {
     "data": {
      "text/latex": [
       "$\\displaystyle \\frac{Q Qt \\alpha_{p} \\alpha_{v} e^{n}_{v} \\kappa_{p} - Q \\alpha_{v} \\beta_{p} e^{n}_{p} \\kappa_{p} + Q \\alpha_{v} \\beta_{p} e^{n}_{p} - \\alpha_{v} e^{n}_{v} \\kappa_{p} \\lambda_{v} + \\beta_{v} e^{n}_{v} \\kappa_{p} + e^{n}_{v} \\kappa_{p} - \\sqrt{Q^{2} Qt^{2} \\alpha_{p}^{2} \\alpha_{v}^{2} \\left(e^{n}_{v}\\right)^{2} \\kappa_{p}^{2} - 2 Q^{2} Qt \\alpha_{p} \\alpha_{v}^{2} \\beta_{p} e^{n}_{p} e^{n}_{v} \\kappa_{p}^{2} + 2 Q^{2} Qt \\alpha_{p} \\alpha_{v}^{2} \\beta_{p} e^{n}_{p} e^{n}_{v} \\kappa_{p} + Q^{2} \\alpha_{v}^{2} \\beta_{p}^{2} \\left(e^{n}_{p}\\right)^{2} \\kappa_{p}^{2} - 2 Q^{2} \\alpha_{v}^{2} \\beta_{p}^{2} \\left(e^{n}_{p}\\right)^{2} \\kappa_{p} + Q^{2} \\alpha_{v}^{2} \\beta_{p}^{2} \\left(e^{n}_{p}\\right)^{2} - 2 Q Qt \\alpha_{p} \\alpha_{v}^{2} \\left(e^{n}_{v}\\right)^{2} \\kappa_{p}^{2} \\lambda_{v} + 2 Q Qt \\alpha_{p} \\alpha_{v} \\beta_{v} \\left(e^{n}_{v}\\right)^{2} \\kappa_{p}^{2} + 2 Q Qt \\alpha_{p} \\alpha_{v} \\left(e^{n}_{v}\\right)^{2} \\kappa_{p}^{2} + 2 Q \\alpha_{v}^{2} \\beta_{p} e^{n}_{p} e^{n}_{v} \\kappa_{p}^{2} \\lambda_{v} - 2 Q \\alpha_{v}^{2} \\beta_{p} e^{n}_{p} e^{n}_{v} \\kappa_{p} \\lambda_{v} - 2 Q \\alpha_{v} \\beta_{p} \\beta_{v} e^{n}_{p} e^{n}_{v} \\kappa_{p}^{2} + 2 Q \\alpha_{v} \\beta_{p} \\beta_{v} e^{n}_{p} e^{n}_{v} \\kappa_{p} - 2 Q \\alpha_{v} \\beta_{p} e^{n}_{p} e^{n}_{v} \\kappa_{p}^{2} + 2 Q \\alpha_{v} \\beta_{p} e^{n}_{p} e^{n}_{v} \\kappa_{p} + \\alpha_{v}^{2} \\left(e^{n}_{v}\\right)^{2} \\kappa_{p}^{2} \\lambda_{v}^{2} - 2 \\alpha_{v} \\beta_{v} \\left(e^{n}_{v}\\right)^{2} \\kappa_{p}^{2} \\lambda_{v} - 2 \\alpha_{v} \\left(e^{n}_{v}\\right)^{2} \\kappa_{p}^{2} \\lambda_{v} + \\beta_{v}^{2} \\left(e^{n}_{v}\\right)^{2} \\kappa_{p}^{2} - 2 \\beta_{v} \\left(e^{n}_{v}\\right)^{2} \\kappa_{p}^{2} + \\left(e^{n}_{v}\\right)^{2} \\kappa_{p}^{2}}}{2 e^{n}_{v} \\kappa_{p}}$"
      ],
      "text/plain": [
       "(Q*Qt*alpha_p*alpha_v*e_v^n*kappa_p - Q*alpha_v*beta_p*e_p^n*kappa_p + Q*alpha_v*beta_p*e_p^n - alpha_v*e_v^n*kappa_p*lambda_v + beta_v*e_v^n*kappa_p + e_v^n*kappa_p - sqrt(Q**2*Qt**2*alpha_p**2*alpha_v**2*e_v^n**2*kappa_p**2 - 2*Q**2*Qt*alpha_p*alpha_v**2*beta_p*e_p^n*e_v^n*kappa_p**2 + 2*Q**2*Qt*alpha_p*alpha_v**2*beta_p*e_p^n*e_v^n*kappa_p + Q**2*alpha_v**2*beta_p**2*e_p^n**2*kappa_p**2 - 2*Q**2*alpha_v**2*beta_p**2*e_p^n**2*kappa_p + Q**2*alpha_v**2*beta_p**2*e_p^n**2 - 2*Q*Qt*alpha_p*alpha_v**2*e_v^n**2*kappa_p**2*lambda_v + 2*Q*Qt*alpha_p*alpha_v*beta_v*e_v^n**2*kappa_p**2 + 2*Q*Qt*alpha_p*alpha_v*e_v^n**2*kappa_p**2 + 2*Q*alpha_v**2*beta_p*e_p^n*e_v^n*kappa_p**2*lambda_v - 2*Q*alpha_v**2*beta_p*e_p^n*e_v^n*kappa_p*lambda_v - 2*Q*alpha_v*beta_p*beta_v*e_p^n*e_v^n*kappa_p**2 + 2*Q*alpha_v*beta_p*beta_v*e_p^n*e_v^n*kappa_p - 2*Q*alpha_v*beta_p*e_p^n*e_v^n*kappa_p**2 + 2*Q*alpha_v*beta_p*e_p^n*e_v^n*kappa_p + alpha_v**2*e_v^n**2*kappa_p**2*lambda_v**2 - 2*alpha_v*beta_v*e_v^n**2*kappa_p**2*lambda_v - 2*alpha_v*e_v^n**2*kappa_p**2*lambda_v + beta_v**2*e_v^n**2*kappa_p**2 - 2*beta_v*e_v^n**2*kappa_p**2 + e_v^n**2*kappa_p**2))/(2*e_v^n*kappa_p)"
      ]
     },
     "metadata": {},
     "output_type": "display_data"
    },
    {
     "data": {
      "text/latex": [
       "$\\displaystyle \\frac{Q Qt \\alpha_{p} \\alpha_{v} e^{n}_{v} \\kappa_{p} - Q \\alpha_{v} \\beta_{p} e^{n}_{p} \\kappa_{p} + Q \\alpha_{v} \\beta_{p} e^{n}_{p} - \\alpha_{v} e^{n}_{v} \\kappa_{p} \\lambda_{v} + \\beta_{v} e^{n}_{v} \\kappa_{p} + e^{n}_{v} \\kappa_{p} + \\sqrt{Q^{2} Qt^{2} \\alpha_{p}^{2} \\alpha_{v}^{2} \\left(e^{n}_{v}\\right)^{2} \\kappa_{p}^{2} - 2 Q^{2} Qt \\alpha_{p} \\alpha_{v}^{2} \\beta_{p} e^{n}_{p} e^{n}_{v} \\kappa_{p}^{2} + 2 Q^{2} Qt \\alpha_{p} \\alpha_{v}^{2} \\beta_{p} e^{n}_{p} e^{n}_{v} \\kappa_{p} + Q^{2} \\alpha_{v}^{2} \\beta_{p}^{2} \\left(e^{n}_{p}\\right)^{2} \\kappa_{p}^{2} - 2 Q^{2} \\alpha_{v}^{2} \\beta_{p}^{2} \\left(e^{n}_{p}\\right)^{2} \\kappa_{p} + Q^{2} \\alpha_{v}^{2} \\beta_{p}^{2} \\left(e^{n}_{p}\\right)^{2} - 2 Q Qt \\alpha_{p} \\alpha_{v}^{2} \\left(e^{n}_{v}\\right)^{2} \\kappa_{p}^{2} \\lambda_{v} + 2 Q Qt \\alpha_{p} \\alpha_{v} \\beta_{v} \\left(e^{n}_{v}\\right)^{2} \\kappa_{p}^{2} + 2 Q Qt \\alpha_{p} \\alpha_{v} \\left(e^{n}_{v}\\right)^{2} \\kappa_{p}^{2} + 2 Q \\alpha_{v}^{2} \\beta_{p} e^{n}_{p} e^{n}_{v} \\kappa_{p}^{2} \\lambda_{v} - 2 Q \\alpha_{v}^{2} \\beta_{p} e^{n}_{p} e^{n}_{v} \\kappa_{p} \\lambda_{v} - 2 Q \\alpha_{v} \\beta_{p} \\beta_{v} e^{n}_{p} e^{n}_{v} \\kappa_{p}^{2} + 2 Q \\alpha_{v} \\beta_{p} \\beta_{v} e^{n}_{p} e^{n}_{v} \\kappa_{p} - 2 Q \\alpha_{v} \\beta_{p} e^{n}_{p} e^{n}_{v} \\kappa_{p}^{2} + 2 Q \\alpha_{v} \\beta_{p} e^{n}_{p} e^{n}_{v} \\kappa_{p} + \\alpha_{v}^{2} \\left(e^{n}_{v}\\right)^{2} \\kappa_{p}^{2} \\lambda_{v}^{2} - 2 \\alpha_{v} \\beta_{v} \\left(e^{n}_{v}\\right)^{2} \\kappa_{p}^{2} \\lambda_{v} - 2 \\alpha_{v} \\left(e^{n}_{v}\\right)^{2} \\kappa_{p}^{2} \\lambda_{v} + \\beta_{v}^{2} \\left(e^{n}_{v}\\right)^{2} \\kappa_{p}^{2} - 2 \\beta_{v} \\left(e^{n}_{v}\\right)^{2} \\kappa_{p}^{2} + \\left(e^{n}_{v}\\right)^{2} \\kappa_{p}^{2}}}{2 e^{n}_{v} \\kappa_{p}}$"
      ],
      "text/plain": [
       "(Q*Qt*alpha_p*alpha_v*e_v^n*kappa_p - Q*alpha_v*beta_p*e_p^n*kappa_p + Q*alpha_v*beta_p*e_p^n - alpha_v*e_v^n*kappa_p*lambda_v + beta_v*e_v^n*kappa_p + e_v^n*kappa_p + sqrt(Q**2*Qt**2*alpha_p**2*alpha_v**2*e_v^n**2*kappa_p**2 - 2*Q**2*Qt*alpha_p*alpha_v**2*beta_p*e_p^n*e_v^n*kappa_p**2 + 2*Q**2*Qt*alpha_p*alpha_v**2*beta_p*e_p^n*e_v^n*kappa_p + Q**2*alpha_v**2*beta_p**2*e_p^n**2*kappa_p**2 - 2*Q**2*alpha_v**2*beta_p**2*e_p^n**2*kappa_p + Q**2*alpha_v**2*beta_p**2*e_p^n**2 - 2*Q*Qt*alpha_p*alpha_v**2*e_v^n**2*kappa_p**2*lambda_v + 2*Q*Qt*alpha_p*alpha_v*beta_v*e_v^n**2*kappa_p**2 + 2*Q*Qt*alpha_p*alpha_v*e_v^n**2*kappa_p**2 + 2*Q*alpha_v**2*beta_p*e_p^n*e_v^n*kappa_p**2*lambda_v - 2*Q*alpha_v**2*beta_p*e_p^n*e_v^n*kappa_p*lambda_v - 2*Q*alpha_v*beta_p*beta_v*e_p^n*e_v^n*kappa_p**2 + 2*Q*alpha_v*beta_p*beta_v*e_p^n*e_v^n*kappa_p - 2*Q*alpha_v*beta_p*e_p^n*e_v^n*kappa_p**2 + 2*Q*alpha_v*beta_p*e_p^n*e_v^n*kappa_p + alpha_v**2*e_v^n**2*kappa_p**2*lambda_v**2 - 2*alpha_v*beta_v*e_v^n**2*kappa_p**2*lambda_v - 2*alpha_v*e_v^n**2*kappa_p**2*lambda_v + beta_v**2*e_v^n**2*kappa_p**2 - 2*beta_v*e_v^n**2*kappa_p**2 + e_v^n**2*kappa_p**2))/(2*e_v^n*kappa_p)"
      ]
     },
     "metadata": {},
     "output_type": "display_data"
    }
   ],
   "source": [
    "sol = solve(iv, kv)\n",
    "display(sol[0])\n",
    "display(sol[1])"
   ]
  },
  {
   "cell_type": "code",
   "execution_count": null,
   "metadata": {},
   "outputs": [],
   "source": []
  }
 ],
 "metadata": {
  "kernelspec": {
   "display_name": "Python 3",
   "language": "python",
   "name": "python3"
  },
  "language_info": {
   "codemirror_mode": {
    "name": "ipython",
    "version": 3
   },
   "file_extension": ".py",
   "mimetype": "text/x-python",
   "name": "python",
   "nbconvert_exporter": "python",
   "pygments_lexer": "ipython3",
   "version": "3.9.6"
  }
 },
 "nbformat": 4,
 "nbformat_minor": 2
}
