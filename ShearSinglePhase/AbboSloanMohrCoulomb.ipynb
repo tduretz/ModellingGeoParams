{
 "cells": [
  {
   "cell_type": "code",
   "execution_count": 4,
   "metadata": {},
   "outputs": [],
   "source": [
    "from sympy import *"
   ]
  },
  {
   "cell_type": "code",
   "execution_count": 5,
   "metadata": {},
   "outputs": [],
   "source": [
    "txx, tyy, tzz, txy, p = symbols('txx, tyy, tzz, txy, p')\n",
    "phi, c =  symbols('phi, c')"
   ]
  },
  {
   "cell_type": "code",
   "execution_count": 8,
   "metadata": {},
   "outputs": [],
   "source": [
    "k = Function('k')(txx, tyy, tzz, txy)"
   ]
  },
  {
   "cell_type": "code",
   "execution_count": 9,
   "metadata": {},
   "outputs": [],
   "source": [
    "J2 = 0.5*(txx**2 + tyy**2 + tzz**2) + txy**2\n",
    "J3 = txx*tyy*tzz + txy**2*tzz\n",
    "F  = k*sqrt(J2) - p*sin(phi) - c*cos(phi)"
   ]
  },
  {
   "cell_type": "code",
   "execution_count": 16,
   "metadata": {},
   "outputs": [],
   "source": [
    "dFdtxx = F.diff(txx).subs(J2, 'J2').subs(k,'k')\n",
    "dFdtyy = F.diff(txx).subs(J2, 'J2').subs(k,'k')\n",
    "dFdtzz = F.diff(txx).subs(J2, 'J2').subs(k,'k')\n",
    "dFdtxx = F.diff(txx).subs(J2, 'J2').subs(k,'k')"
   ]
  },
  {
   "cell_type": "code",
   "execution_count": 26,
   "metadata": {},
   "outputs": [
    {
     "ename": "TypeError",
     "evalue": "invalid input: sqrt(3)",
     "output_type": "error",
     "traceback": [
      "\u001b[0;31m---------------------------------------------------------------------------\u001b[0m",
      "\u001b[0;31mTypeError\u001b[0m                                 Traceback (most recent call last)",
      "\u001b[1;32m/Users/tduretz/REPO/ModellingGeoParams/ShearSinglePhase/AbboSloanMohrCoulomb.ipynb Cell 6\u001b[0m line \u001b[0;36m2\n\u001b[1;32m      <a href='vscode-notebook-cell:/Users/tduretz/REPO/ModellingGeoParams/ShearSinglePhase/AbboSloanMohrCoulomb.ipynb#W6sZmlsZQ%3D%3D?line=0'>1</a>\u001b[0m theta \u001b[39m=\u001b[39m \u001b[39m-\u001b[39msqrt(\u001b[39m3\u001b[39m)\u001b[39m*\u001b[39mRational(\u001b[39m3\u001b[39m,\u001b[39m2\u001b[39m)\u001b[39m*\u001b[39mJ3\u001b[39m/\u001b[39mJ2\u001b[39m*\u001b[39m\u001b[39m*\u001b[39m(Rational(\u001b[39m3\u001b[39m,\u001b[39m2\u001b[39m))\n\u001b[0;32m----> <a href='vscode-notebook-cell:/Users/tduretz/REPO/ModellingGeoParams/ShearSinglePhase/AbboSloanMohrCoulomb.ipynb#W6sZmlsZQ%3D%3D?line=1'>2</a>\u001b[0m k1 \u001b[39m=\u001b[39m  cos(theta) \u001b[39m-\u001b[39m Rational(\u001b[39m1\u001b[39;49m, sqrt(\u001b[39m3\u001b[39;49m))\u001b[39m*\u001b[39msin(theta)\u001b[39m*\u001b[39msin(phi) \n\u001b[1;32m      <a href='vscode-notebook-cell:/Users/tduretz/REPO/ModellingGeoParams/ShearSinglePhase/AbboSloanMohrCoulomb.ipynb#W6sZmlsZQ%3D%3D?line=2'>3</a>\u001b[0m dkdtxx \u001b[39m=\u001b[39m k1\u001b[39m.\u001b[39mdiff(txx)\n\u001b[1;32m      <a href='vscode-notebook-cell:/Users/tduretz/REPO/ModellingGeoParams/ShearSinglePhase/AbboSloanMohrCoulomb.ipynb#W6sZmlsZQ%3D%3D?line=3'>4</a>\u001b[0m display( dkdtxx\u001b[39m.\u001b[39msubs(k1,\u001b[39m'\u001b[39m\u001b[39mk\u001b[39m\u001b[39m'\u001b[39m)\u001b[39m.\u001b[39msubs(J2, \u001b[39m'\u001b[39m\u001b[39mJ2\u001b[39m\u001b[39m'\u001b[39m)\u001b[39m.\u001b[39msubs(J3, \u001b[39m'\u001b[39m\u001b[39mJ3\u001b[39m\u001b[39m'\u001b[39m) )\n",
      "File \u001b[0;32m~/Library/Python/3.9/lib/python/site-packages/sympy/core/cache.py:70\u001b[0m, in \u001b[0;36m__cacheit.<locals>.func_wrapper.<locals>.wrapper\u001b[0;34m(*args, **kwargs)\u001b[0m\n\u001b[1;32m     67\u001b[0m \u001b[39m@wraps\u001b[39m(func)\n\u001b[1;32m     68\u001b[0m \u001b[39mdef\u001b[39;00m \u001b[39mwrapper\u001b[39m(\u001b[39m*\u001b[39margs, \u001b[39m*\u001b[39m\u001b[39m*\u001b[39mkwargs):\n\u001b[1;32m     69\u001b[0m     \u001b[39mtry\u001b[39;00m:\n\u001b[0;32m---> 70\u001b[0m         retval \u001b[39m=\u001b[39m cfunc(\u001b[39m*\u001b[39;49margs, \u001b[39m*\u001b[39;49m\u001b[39m*\u001b[39;49mkwargs)\n\u001b[1;32m     71\u001b[0m     \u001b[39mexcept\u001b[39;00m \u001b[39mTypeError\u001b[39;00m \u001b[39mas\u001b[39;00m e:\n\u001b[1;32m     72\u001b[0m         \u001b[39mif\u001b[39;00m \u001b[39mnot\u001b[39;00m e\u001b[39m.\u001b[39margs \u001b[39mor\u001b[39;00m \u001b[39mnot\u001b[39;00m e\u001b[39m.\u001b[39margs[\u001b[39m0\u001b[39m]\u001b[39m.\u001b[39mstartswith(\u001b[39m'\u001b[39m\u001b[39munhashable type:\u001b[39m\u001b[39m'\u001b[39m):\n",
      "File \u001b[0;32m~/Library/Python/3.9/lib/python/site-packages/sympy/core/numbers.py:1633\u001b[0m, in \u001b[0;36mRational.__new__\u001b[0;34m(cls, p, q, gcd)\u001b[0m\n\u001b[1;32m   1630\u001b[0m     p \u001b[39m=\u001b[39m \u001b[39mint\u001b[39m(p)\n\u001b[1;32m   1632\u001b[0m \u001b[39mif\u001b[39;00m \u001b[39mnot\u001b[39;00m \u001b[39misinstance\u001b[39m(q, SYMPY_INTS):\n\u001b[0;32m-> 1633\u001b[0m     q \u001b[39m=\u001b[39m Rational(q)\n\u001b[1;32m   1634\u001b[0m     p \u001b[39m*\u001b[39m\u001b[39m=\u001b[39m q\u001b[39m.\u001b[39mq\n\u001b[1;32m   1635\u001b[0m     q \u001b[39m=\u001b[39m q\u001b[39m.\u001b[39mp\n",
      "File \u001b[0;32m~/Library/Python/3.9/lib/python/site-packages/sympy/core/cache.py:70\u001b[0m, in \u001b[0;36m__cacheit.<locals>.func_wrapper.<locals>.wrapper\u001b[0;34m(*args, **kwargs)\u001b[0m\n\u001b[1;32m     67\u001b[0m \u001b[39m@wraps\u001b[39m(func)\n\u001b[1;32m     68\u001b[0m \u001b[39mdef\u001b[39;00m \u001b[39mwrapper\u001b[39m(\u001b[39m*\u001b[39margs, \u001b[39m*\u001b[39m\u001b[39m*\u001b[39mkwargs):\n\u001b[1;32m     69\u001b[0m     \u001b[39mtry\u001b[39;00m:\n\u001b[0;32m---> 70\u001b[0m         retval \u001b[39m=\u001b[39m cfunc(\u001b[39m*\u001b[39;49margs, \u001b[39m*\u001b[39;49m\u001b[39m*\u001b[39;49mkwargs)\n\u001b[1;32m     71\u001b[0m     \u001b[39mexcept\u001b[39;00m \u001b[39mTypeError\u001b[39;00m \u001b[39mas\u001b[39;00m e:\n\u001b[1;32m     72\u001b[0m         \u001b[39mif\u001b[39;00m \u001b[39mnot\u001b[39;00m e\u001b[39m.\u001b[39margs \u001b[39mor\u001b[39;00m \u001b[39mnot\u001b[39;00m e\u001b[39m.\u001b[39margs[\u001b[39m0\u001b[39m]\u001b[39m.\u001b[39mstartswith(\u001b[39m'\u001b[39m\u001b[39munhashable type:\u001b[39m\u001b[39m'\u001b[39m):\n",
      "File \u001b[0;32m~/Library/Python/3.9/lib/python/site-packages/sympy/core/numbers.py:1620\u001b[0m, in \u001b[0;36mRational.__new__\u001b[0;34m(cls, p, q, gcd)\u001b[0m\n\u001b[1;32m   1617\u001b[0m             \u001b[39mreturn\u001b[39;00m Rational(p\u001b[39m.\u001b[39mnumerator, p\u001b[39m.\u001b[39mdenominator, \u001b[39m1\u001b[39m)\n\u001b[1;32m   1619\u001b[0m     \u001b[39mif\u001b[39;00m \u001b[39mnot\u001b[39;00m \u001b[39misinstance\u001b[39m(p, Rational):\n\u001b[0;32m-> 1620\u001b[0m         \u001b[39mraise\u001b[39;00m \u001b[39mTypeError\u001b[39;00m(\u001b[39m'\u001b[39m\u001b[39minvalid input: \u001b[39m\u001b[39m%s\u001b[39;00m\u001b[39m'\u001b[39m \u001b[39m%\u001b[39m p)\n\u001b[1;32m   1622\u001b[0m q \u001b[39m=\u001b[39m \u001b[39m1\u001b[39m\n\u001b[1;32m   1623\u001b[0m gcd \u001b[39m=\u001b[39m \u001b[39m1\u001b[39m\n",
      "\u001b[0;31mTypeError\u001b[0m: invalid input: sqrt(3)"
     ]
    }
   ],
   "source": [
    "theta = -sqrt(3)*Rational(3,2)*J3/J2**(Rational(3,2))\n",
    "k1 =  cos(theta) - 1/sqrt(3)*sin(theta)*sin(phi) \n",
    "dkdtxx = k1.diff(txx)\n",
    "display( dkdtxx.subs(k1,'k').subs(J2, 'J2').subs(J3, 'J3') )"
   ]
  },
  {
   "cell_type": "code",
   "execution_count": null,
   "metadata": {},
   "outputs": [],
   "source": []
  }
 ],
 "metadata": {
  "kernelspec": {
   "display_name": "Python 3",
   "language": "python",
   "name": "python3"
  },
  "language_info": {
   "codemirror_mode": {
    "name": "ipython",
    "version": 3
   },
   "file_extension": ".py",
   "mimetype": "text/x-python",
   "name": "python",
   "nbconvert_exporter": "python",
   "pygments_lexer": "ipython3",
   "version": "3.9.6"
  }
 },
 "nbformat": 4,
 "nbformat_minor": 2
}
