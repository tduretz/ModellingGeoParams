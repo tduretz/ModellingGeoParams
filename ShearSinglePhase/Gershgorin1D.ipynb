{
 "cells": [
  {
   "cell_type": "code",
   "execution_count": 2,
   "metadata": {},
   "outputs": [],
   "source": [
    "from sympy import *"
   ]
  },
  {
   "cell_type": "code",
   "execution_count": 3,
   "metadata": {},
   "outputs": [
    {
     "data": {
      "text/latex": [
       "$\\displaystyle \\left|{\\frac{ExyS \\left. \\frac{\\partial}{\\partial \\xi_{2}} \\operatorname{eS}{\\left(\\operatorname{eiiS}{\\left(VxS,VxC \\right)},\\xi_{2} \\right)} \\right|_{\\substack{ \\xi_{2}=\\frac{TC}{2} + \\frac{TS}{2} }} + \\frac{\\left(\\frac{VxC}{2} - \\frac{VxN}{2}\\right) \\left. \\frac{\\partial}{\\partial \\xi_{2}} \\operatorname{eN}{\\left(\\operatorname{eiiN}{\\left(VxN,VxC \\right)},\\xi_{2} \\right)} \\right|_{\\substack{ \\xi_{2}=\\frac{TC}{2} + \\frac{TN}{2} }}}{dy}}{dy}}\\right|$"
      ],
      "text/plain": [
       "Abs((ExyS*Subs(Derivative(eS(eiiS(VxS, VxC), _xi_2), _xi_2), _xi_2, TC/2 + TS/2) + (VxC/2 - VxN/2)*Subs(Derivative(eN(eiiN(VxN, VxC), _xi_2), _xi_2), _xi_2, TC/2 + TN/2)/dy)/dy)"
      ]
     },
     "execution_count": 3,
     "metadata": {},
     "output_type": "execute_result"
    }
   ],
   "source": [
    "VxS, VxC, VxN = symbols('VxS, VxC, VxN')\n",
    "TS, TC, TN = symbols('TS, TC, TN')\n",
    "T1N = Rational(1,2)*(TN+TC)\n",
    "T1S = Rational(1,2)*(TS+TC)\n",
    "eiiN = Function('eiiN')(VxN, VxC)\n",
    "eiiS = Function('eiiS')(VxS, VxC)\n",
    "eN = Function('eN')(eiiN, T1N)\n",
    "eS = Function('eS')(eiiS, T1S)\n",
    "dy = symbols('dy')\n",
    "\n",
    "ExyN = Rational(1,2)*(VxN-VxC)/dy\n",
    "ExyS = Rational(1,2)*(VxC-VxS)/dy\n",
    "TxyN = 2*eN*ExyN\n",
    "TxyS = 2*eS*ExyS\n",
    "fV   = -(TxyN - TxyS)/dy\n",
    "(0*diff(fV, VxC) + 0*abs(diff(fV, VxN)) + 0*abs(diff(fV, VxS)) + abs(diff(fV, TC))).subs(ExyN,'ExyN').subs(ExyS,'ExyS')\n"
   ]
  },
  {
   "cell_type": "code",
   "execution_count": 4,
   "metadata": {},
   "outputs": [
    {
     "data": {
      "text/latex": [
       "$\\displaystyle \\frac{0.25 \\sqrt{\\frac{\\left(VxN - VxS\\right)^{2}}{dy^{2}}} \\left(- 2 VxN + 2 VxS\\right)}{\\left(VxN - VxS\\right)^{2}}$"
      ],
      "text/plain": [
       "0.25*sqrt((VxN - VxS)**2/dy**2)*(-2*VxN + 2*VxS)/(VxN - VxS)**2"
      ]
     },
     "execution_count": 4,
     "metadata": {},
     "output_type": "execute_result"
    }
   ],
   "source": [
    "Eii = sqrt( (0.5*(VxN - VxS)/dy)**2 ) \n",
    "Eii.diff(VxS)"
   ]
  },
  {
   "cell_type": "code",
   "execution_count": 5,
   "metadata": {},
   "outputs": [
    {
     "data": {
      "text/latex": [
       "$\\displaystyle \\frac{1.0 kS}{Cp dy^{2} \\rho}$"
      ],
      "text/plain": [
       "1.0*kS/(Cp*dy**2*rho)"
      ]
     },
     "execution_count": 5,
     "metadata": {},
     "output_type": "execute_result"
    }
   ],
   "source": [
    "TS, TC, TN, TC0 = symbols('TS, TC, TN, TC0')\n",
    "kN, kS, k, Cp, rho, dy, dt = symbols('kN, kS, k, Cp, rho, dy, dt')\n",
    "dTdyN = (TN-TC)/dy\n",
    "dTdyS = (TC-TS)/dy\n",
    "qTN   =  -kN*dTdyN\n",
    "qTS   =  -kS*dTdyS\n",
    "fT = -(TC - TC0) / dt - 1.0/(rho*Cp) * (qTN - qTS)/dy #+ rhs/(ρ*Cp) * 0.5*(ε̇xy[1:end-1]*τxy[1:end-1] + ε̇xy[2:end]*τxy[2:end])\n",
    "diff(fT, TC)\n",
    "diff(fT, TS)\n"
   ]
  },
  {
   "cell_type": "code",
   "execution_count": 10,
   "metadata": {},
   "outputs": [
    {
     "data": {
      "text/latex": [
       "$\\displaystyle \\left|{\\frac{eN}{dy^{2}}}\\right| + \\left|{\\frac{eS}{dy^{2}}}\\right| + \\frac{\\frac{eN}{dy} + \\frac{eS}{dy}}{dy}$"
      ],
      "text/plain": [
       "Abs(eN/dy**2) + Abs(eS/dy**2) + (eN/dy + eS/dy)/dy"
      ]
     },
     "execution_count": 10,
     "metadata": {},
     "output_type": "execute_result"
    }
   ],
   "source": [
    "VxS, VxC, VxN = symbols('VxS, VxC, VxN')\n",
    "eN = symbols('eN')\n",
    "eS = symbols('eS')\n",
    "dy = symbols('dy')\n",
    "\n",
    "ExyN = Rational(1,2)*(VxN-VxC)/dy\n",
    "ExyS = Rational(1,2)*(VxC-VxS)/dy\n",
    "TxyN = 2*eN*ExyN\n",
    "TxyS = 2*eS*ExyS\n",
    "fV   = -(TxyN - TxyS)/dy\n",
    "(diff(fV, VxC) + abs(diff(fV, VxN)) + abs(diff(fV, VxS)) + abs(diff(fV, TC))).subs(ExyN,'ExyN').subs(ExyS,'ExyS')"
   ]
  },
  {
   "cell_type": "code",
   "execution_count": null,
   "metadata": {},
   "outputs": [
    {
     "data": {
      "text/latex": [
       "$\\displaystyle \\left|{\\frac{KN dt}{dy^{2}} + \\frac{eN}{3 dy^{2}}}\\right| + \\left|{\\frac{KS dt}{dy^{2}} + \\frac{eS}{3 dy^{2}}}\\right| - \\frac{- \\frac{eN}{3 dy} - \\frac{eS}{3 dy}}{dy} + \\frac{\\frac{KN dt}{dy} + \\frac{KS dt}{dy}}{dy}$"
      ],
      "text/plain": [
       "Abs(KN*dt/dy**2 + eN/(3*dy**2)) + Abs(KS*dt/dy**2 + eS/(3*dy**2)) - (-eN/(3*dy) - eS/(3*dy))/dy + (KN*dt/dy + KS*dt/dy)/dy"
      ]
     },
     "execution_count": 18,
     "metadata": {},
     "output_type": "execute_result"
    }
   ],
   "source": [
    "KN, KS, dt = symbols('KN, KS, dt')\n",
    "VyS, VyC, VyN = symbols('VyS, VyC, VyN')\n",
    "PN, PS        = symbols('PN, PS')\n",
    "EyyN = (VyN-VyC)/dy - Rational(1,3)*(VyN-VyC)/dy\n",
    "EyyS = (VyC-VyS)/dy - Rational(1,3)*(VyC-VyS)/dy\n",
    "TyyN = 2*eN*EyyN\n",
    "TyyS = 2*eS*EyyS\n",
    "PN   = -KN*dt*(VyN-VyC)/dy\n",
    "PS   = -KS*dt*(VyC-VyS)/dy\n",
    "fV   = -((TyyN - TyyS)/dy - (PN-PS)/dy) \n",
    "(diff(fV, VyC) + abs(diff(fV, VyN)) + abs(diff(fV, VyS)) + abs(diff(fV, TC)))"
   ]
  },
  {
   "cell_type": "code",
   "execution_count": 24,
   "metadata": {},
   "outputs": [
    {
     "data": {
      "text/latex": [
       "$\\displaystyle 0$"
      ],
      "text/plain": [
       "0"
      ]
     },
     "execution_count": 24,
     "metadata": {},
     "output_type": "execute_result"
    }
   ],
   "source": [
    "KN, KS, dt = symbols('KN, KS, dt')\n",
    "VyS, VyC, VyN = symbols('VyS, VyC, VyN')\n",
    "PN, PS        = symbols('PN, PS')\n",
    "EyyN = (VyN-VyC)/dy #- Rational(1,3)*(VyN-VyC)/dy\n",
    "EyyS = (VyC-VyS)/dy #- Rational(1,3)*(VyC-VyS)/dy\n",
    "SyyN = (4 + 4)\n",
    "SyyS = 2*eS*EyyS\n",
    "PN   = -KN*dt*(VyN-VyC)/dy\n",
    "PS   = -KS*dt*(VyC-VyS)/dy\n",
    "fV   = -((TyyN - TyyS)/dy - (PN-PS)/dy) \n",
    "(diff(fV, VyC) + abs(diff(fV, VyN)) + abs(diff(fV, VyS)) + abs(diff(fV, TC)))"
   ]
  },
  {
   "cell_type": "code",
   "execution_count": null,
   "metadata": {},
   "outputs": [],
   "source": []
  }
 ],
 "metadata": {
  "kernelspec": {
   "display_name": "Python 3",
   "language": "python",
   "name": "python3"
  },
  "language_info": {
   "codemirror_mode": {
    "name": "ipython",
    "version": 3
   },
   "file_extension": ".py",
   "mimetype": "text/x-python",
   "name": "python",
   "nbconvert_exporter": "python",
   "pygments_lexer": "ipython3",
   "version": "3.9.6"
  }
 },
 "nbformat": 4,
 "nbformat_minor": 2
}
