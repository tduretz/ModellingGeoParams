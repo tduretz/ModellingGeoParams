{
 "cells": [
  {
   "cell_type": "code",
   "execution_count": 94,
   "metadata": {},
   "outputs": [],
   "source": [
    "from sympy import *"
   ]
  },
  {
   "cell_type": "markdown",
   "metadata": {},
   "source": [
    "Trial Pressure!"
   ]
  },
  {
   "cell_type": "code",
   "execution_count": 95,
   "metadata": {},
   "outputs": [],
   "source": [
    "# Trial\n",
    "divVs, divqD, Pf0, Pt0, Pf, Pt, Kd, a, B, dt = symbols('DivV, Divq_D, Pf0, Pt0, Pf, Pt, K_d, alpha, B, dt')\n",
    "phi, eta_phi = symbols('phi, eta_phi')\n",
    "dPtdt = (Pt-Pt0)/dt\n",
    "dPfdt = (Pf-Pf0)/dt\n",
    "f1 = divVs + 1/Kd*(dPtdt -   a*dPfdt) + (Pt-Pf)/eta_phi/(1-phi)\n",
    "f2 = divqD - a/Kd*(dPtdt - 1/B*dPfdt) - (Pt-Pf)/eta_phi/(1-phi)\n",
    "\n",
    "# RPt    .= .-( ∇V  .+ (Pt.-Pf)./ηϕ./(1.0.-ϕ) .+ 1.0./Kd.*(  (Pt.-Pt0)./dt .- α     .*(Pf.-Pf0)./dt ) )\n",
    "# RPf    .= .-( ∇qD .- (Pt.-Pf)./ηϕ./(1.0.-ϕ) .- α  ./Kd.*(  (Pt.-Pt0)./dt .- 1.0./B.*(Pf.-Pf0)./dt ) )"
   ]
  },
  {
   "cell_type": "code",
   "execution_count": 96,
   "metadata": {},
   "outputs": [
    {
     "data": {
      "text/latex": [
       "$\\displaystyle \\frac{B DivV K_{d}^{2} dt^{2} + B Divq_{D} K_{d}^{2} dt^{2} - B Divq_{D} K_{d} \\alpha dt \\eta_{\\phi} \\phi + B Divq_{D} K_{d} \\alpha dt \\eta_{\\phi} + B K_{d} Pf_{0} \\alpha dt + B K_{d} Pt_{0} \\alpha dt - B K_{d} Pt_{0} dt - B Pt_{0} \\alpha^{2} \\eta_{\\phi} \\phi + B Pt_{0} \\alpha^{2} \\eta_{\\phi} - DivV K_{d} \\alpha dt \\eta_{\\phi} \\phi + DivV K_{d} \\alpha dt \\eta_{\\phi} - K_{d} Pf_{0} \\alpha dt + Pt_{0} \\alpha \\eta_{\\phi} \\phi - Pt_{0} \\alpha \\eta_{\\phi}}{2 B K_{d} \\alpha dt - B K_{d} dt - B \\alpha^{2} \\eta_{\\phi} \\phi + B \\alpha^{2} \\eta_{\\phi} - K_{d} \\alpha dt + \\alpha \\eta_{\\phi} \\phi - \\alpha \\eta_{\\phi}}$"
      ],
      "text/plain": [
       "(B*DivV*K_d**2*dt**2 + B*Divq_D*K_d**2*dt**2 - B*Divq_D*K_d*alpha*dt*eta_phi*phi + B*Divq_D*K_d*alpha*dt*eta_phi + B*K_d*Pf0*alpha*dt + B*K_d*Pt0*alpha*dt - B*K_d*Pt0*dt - B*Pt0*alpha**2*eta_phi*phi + B*Pt0*alpha**2*eta_phi - DivV*K_d*alpha*dt*eta_phi*phi + DivV*K_d*alpha*dt*eta_phi - K_d*Pf0*alpha*dt + Pt0*alpha*eta_phi*phi - Pt0*alpha*eta_phi)/(2*B*K_d*alpha*dt - B*K_d*dt - B*alpha**2*eta_phi*phi + B*alpha**2*eta_phi - K_d*alpha*dt + alpha*eta_phi*phi - alpha*eta_phi)"
      ]
     },
     "metadata": {},
     "output_type": "display_data"
    },
    {
     "data": {
      "text/latex": [
       "$\\displaystyle \\frac{B DivV K_{d}^{2} dt^{2} - B DivV K_{d} \\alpha dt \\eta_{\\phi} \\phi + B DivV K_{d} \\alpha dt \\eta_{\\phi} + B Divq_{D} K_{d}^{2} dt^{2} - B Divq_{D} K_{d} dt \\eta_{\\phi} \\phi + B Divq_{D} K_{d} dt \\eta_{\\phi} + B K_{d} Pf_{0} \\alpha dt + B K_{d} Pt_{0} \\alpha dt - B K_{d} Pt_{0} dt - B Pf_{0} \\alpha^{2} \\eta_{\\phi} \\phi + B Pf_{0} \\alpha^{2} \\eta_{\\phi} - K_{d} Pf_{0} \\alpha dt + Pf_{0} \\alpha \\eta_{\\phi} \\phi - Pf_{0} \\alpha \\eta_{\\phi}}{2 B K_{d} \\alpha dt - B K_{d} dt - B \\alpha^{2} \\eta_{\\phi} \\phi + B \\alpha^{2} \\eta_{\\phi} - K_{d} \\alpha dt + \\alpha \\eta_{\\phi} \\phi - \\alpha \\eta_{\\phi}}$"
      ],
      "text/plain": [
       "(B*DivV*K_d**2*dt**2 - B*DivV*K_d*alpha*dt*eta_phi*phi + B*DivV*K_d*alpha*dt*eta_phi + B*Divq_D*K_d**2*dt**2 - B*Divq_D*K_d*dt*eta_phi*phi + B*Divq_D*K_d*dt*eta_phi + B*K_d*Pf0*alpha*dt + B*K_d*Pt0*alpha*dt - B*K_d*Pt0*dt - B*Pf0*alpha**2*eta_phi*phi + B*Pf0*alpha**2*eta_phi - K_d*Pf0*alpha*dt + Pf0*alpha*eta_phi*phi - Pf0*alpha*eta_phi)/(2*B*K_d*alpha*dt - B*K_d*dt - B*alpha**2*eta_phi*phi + B*alpha**2*eta_phi - K_d*alpha*dt + alpha*eta_phi*phi - alpha*eta_phi)"
      ]
     },
     "metadata": {},
     "output_type": "display_data"
    },
    {
     "name": "stdout",
     "output_type": "stream",
     "text": [
      "(B .* DivV .* K_d .^ 2 .* dt .^ 2 + B .* Divq_D .* K_d .^ 2 .* dt .^ 2 - B .* Divq_D .* K_d .* alpha .* dt .* eta_phi .* phi + B .* Divq_D .* K_d .* alpha .* dt .* eta_phi + B .* K_d .* Pf0 .* alpha .* dt + B .* K_d .* Pt0 .* alpha .* dt - B .* K_d .* Pt0 .* dt - B .* Pt0 .* alpha .^ 2 .* eta_phi .* phi + B .* Pt0 .* alpha .^ 2 .* eta_phi - DivV .* K_d .* alpha .* dt .* eta_phi .* phi + DivV .* K_d .* alpha .* dt .* eta_phi - K_d .* Pf0 .* alpha .* dt + Pt0 .* alpha .* eta_phi .* phi - Pt0 .* alpha .* eta_phi) ./ (2 * B .* K_d .* alpha .* dt - B .* K_d .* dt - B .* alpha .^ 2 .* eta_phi .* phi + B .* alpha .^ 2 .* eta_phi - K_d .* alpha .* dt + alpha .* eta_phi .* phi - alpha .* eta_phi)\n",
      "(B .* DivV .* K_d .^ 2 .* dt .^ 2 - B .* DivV .* K_d .* alpha .* dt .* eta_phi .* phi + B .* DivV .* K_d .* alpha .* dt .* eta_phi + B .* Divq_D .* K_d .^ 2 .* dt .^ 2 - B .* Divq_D .* K_d .* dt .* eta_phi .* phi + B .* Divq_D .* K_d .* dt .* eta_phi + B .* K_d .* Pf0 .* alpha .* dt + B .* K_d .* Pt0 .* alpha .* dt - B .* K_d .* Pt0 .* dt - B .* Pf0 .* alpha .^ 2 .* eta_phi .* phi + B .* Pf0 .* alpha .^ 2 .* eta_phi - K_d .* Pf0 .* alpha .* dt + Pf0 .* alpha .* eta_phi .* phi - Pf0 .* alpha .* eta_phi) ./ (2 * B .* K_d .* alpha .* dt - B .* K_d .* dt - B .* alpha .^ 2 .* eta_phi .* phi + B .* alpha .^ 2 .* eta_phi - K_d .* alpha .* dt + alpha .* eta_phi .* phi - alpha .* eta_phi)\n"
     ]
    }
   ],
   "source": [
    "# Solve for trial pressures\n",
    "sol = solve([f1,f2], [Pt,Pf])\n",
    "Pt1 = sol[Pt]\n",
    "Pf1 = sol[Pf]\n",
    "display(Pt1)\n",
    "display(Pf1)\n",
    "print(julia_code(Pt1))\n",
    "print(julia_code(Pf1))"
   ]
  },
  {
   "cell_type": "code",
   "execution_count": 97,
   "metadata": {},
   "outputs": [
    {
     "name": "stdout",
     "output_type": "stream",
     "text": [
      "@. dPtdPt0   .= (B .* K_d .* alpha .* dt - B .* K_d .* dt - B .* alpha .^ 2 .* eta_phi .* phi + B .* alpha .^ 2 .* eta_phi + alpha .* eta_phi .* phi - alpha .* eta_phi) ./ (2 * B .* K_d .* alpha .* dt - B .* K_d .* dt - B .* alpha .^ 2 .* eta_phi .* phi + B .* alpha .^ 2 .* eta_phi - K_d .* alpha .* dt + alpha .* eta_phi .* phi - alpha .* eta_phi)\n",
      "@. dPtdPf0   .= (B .* K_d .* alpha .* dt - K_d .* alpha .* dt) ./ (2 * B .* K_d .* alpha .* dt - B .* K_d .* dt - B .* alpha .^ 2 .* eta_phi .* phi + B .* alpha .^ 2 .* eta_phi - K_d .* alpha .* dt + alpha .* eta_phi .* phi - alpha .* eta_phi)\n",
      "@. dPtddivVs .= (B .* K_d .^ 2 .* dt .^ 2 - K_d .* alpha .* dt .* eta_phi .* phi + K_d .* alpha .* dt .* eta_phi) ./ (2 * B .* K_d .* alpha .* dt - B .* K_d .* dt - B .* alpha .^ 2 .* eta_phi .* phi + B .* alpha .^ 2 .* eta_phi - K_d .* alpha .* dt + alpha .* eta_phi .* phi - alpha .* eta_phi)\n",
      "@. dPtddivqD .= (B .* K_d .^ 2 .* dt .^ 2 - B .* K_d .* alpha .* dt .* eta_phi .* phi + B .* K_d .* alpha .* dt .* eta_phi) ./ (2 * B .* K_d .* alpha .* dt - B .* K_d .* dt - B .* alpha .^ 2 .* eta_phi .* phi + B .* alpha .^ 2 .* eta_phi - K_d .* alpha .* dt + alpha .* eta_phi .* phi - alpha .* eta_phi)\n"
     ]
    }
   ],
   "source": [
    "dPtdPt0   = Pt1.diff(Pt0) \n",
    "dPtdPf0   = Pt1.diff(Pf0) \n",
    "dPtddivVs = Pt1.diff(divVs) \n",
    "dPtddivqD = Pt1.diff(divqD)\n",
    "print('@. dPtdPt0   .= ' + julia_code(dPtdPt0) )\n",
    "print('@. dPtdPf0   .= ' + julia_code(dPtdPf0) )\n",
    "print('@. dPtddivVs .= ' + julia_code(dPtddivVs) )\n",
    "print('@. dPtddivqD .= ' + julia_code(dPtddivqD) )\n"
   ]
  },
  {
   "cell_type": "code",
   "execution_count": 98,
   "metadata": {},
   "outputs": [
    {
     "name": "stdout",
     "output_type": "stream",
     "text": [
      "@. dPfdPt0   .= (B .* K_d .* alpha .* dt - B .* K_d .* dt) ./ (2 * B .* K_d .* alpha .* dt - B .* K_d .* dt - B .* alpha .^ 2 .* eta_phi .* phi + B .* alpha .^ 2 .* eta_phi - K_d .* alpha .* dt + alpha .* eta_phi .* phi - alpha .* eta_phi)\n",
      "@. dPfdPf0   .= (B .* K_d .* alpha .* dt - B .* alpha .^ 2 .* eta_phi .* phi + B .* alpha .^ 2 .* eta_phi - K_d .* alpha .* dt + alpha .* eta_phi .* phi - alpha .* eta_phi) ./ (2 * B .* K_d .* alpha .* dt - B .* K_d .* dt - B .* alpha .^ 2 .* eta_phi .* phi + B .* alpha .^ 2 .* eta_phi - K_d .* alpha .* dt + alpha .* eta_phi .* phi - alpha .* eta_phi)\n",
      "@. dPfddivVs .= (B .* K_d .^ 2 .* dt .^ 2 - B .* K_d .* alpha .* dt .* eta_phi .* phi + B .* K_d .* alpha .* dt .* eta_phi) ./ (2 * B .* K_d .* alpha .* dt - B .* K_d .* dt - B .* alpha .^ 2 .* eta_phi .* phi + B .* alpha .^ 2 .* eta_phi - K_d .* alpha .* dt + alpha .* eta_phi .* phi - alpha .* eta_phi)\n",
      "@. dPfddivqD .= (B .* K_d .^ 2 .* dt .^ 2 - B .* K_d .* dt .* eta_phi .* phi + B .* K_d .* dt .* eta_phi) ./ (2 * B .* K_d .* alpha .* dt - B .* K_d .* dt - B .* alpha .^ 2 .* eta_phi .* phi + B .* alpha .^ 2 .* eta_phi - K_d .* alpha .* dt + alpha .* eta_phi .* phi - alpha .* eta_phi)\n"
     ]
    }
   ],
   "source": [
    "dPfdPt0   = Pf1.diff(Pt0) \n",
    "dPfdPf0   = Pf1.diff(Pf0) \n",
    "dPfddivVs = Pf1.diff(divVs) \n",
    "dPfddivqD = Pf1.diff(divqD)\n",
    "print('@. dPfdPt0   .= ' + julia_code(dPfdPt0) )\n",
    "print('@. dPfdPf0   .= ' + julia_code(dPfdPf0) )\n",
    "print('@. dPfddivVs .= ' + julia_code(dPfddivVs) )\n",
    "print('@. dPfddivqD .= ' + julia_code(dPfddivqD) )"
   ]
  },
  {
   "cell_type": "code",
   "execution_count": 99,
   "metadata": {},
   "outputs": [],
   "source": [
    "phi0, K_phi = symbols('phi0, K_phi')\n",
    "Pf, Pt = symbols('Pf, Pt')\n",
    "fphi = (phi - phi0)/dt - 1/K_phi*( (Pf-Pf0)/dt - (Pt-Pt0)/dt) + 1/eta_phi*(Pf-Pt)\n",
    "phi_trial = solve(fphi,phi)[0]"
   ]
  },
  {
   "cell_type": "markdown",
   "metadata": {},
   "source": [
    "Corrected pressure!!"
   ]
  },
  {
   "cell_type": "code",
   "execution_count": 100,
   "metadata": {},
   "outputs": [
    {
     "data": {
      "text/latex": [
       "$\\displaystyle \\frac{B DivV K_{d}^{2} dt^{2} + B Divq_{D} K_{d}^{2} dt^{2} - B Divq_{D} K_{d} \\alpha dt \\eta_{\\phi} \\phi + B Divq_{D} K_{d} \\alpha dt \\eta_{\\phi} + B K_{d} Pf_{0} \\alpha dt + B K_{d} Pt_{0} \\alpha dt - B K_{d} Pt_{0} dt - B Pt_{0} \\alpha^{2} \\eta_{\\phi} \\phi + B Pt_{0} \\alpha^{2} \\eta_{\\phi} - DivV K_{d} \\alpha dt \\eta_{\\phi} \\phi + DivV K_{d} \\alpha dt \\eta_{\\phi} - K_{d} Pf_{0} \\alpha dt + Pt_{0} \\alpha \\eta_{\\phi} \\phi - Pt_{0} \\alpha \\eta_{\\phi}}{2 B K_{d} \\alpha dt - B K_{d} dt - B \\alpha^{2} \\eta_{\\phi} \\phi + B \\alpha^{2} \\eta_{\\phi} - K_{d} \\alpha dt + \\alpha \\eta_{\\phi} \\phi - \\alpha \\eta_{\\phi}} - \\frac{B DivV K_{d}^{2} dt^{2} - B DivV K_{d} \\alpha dt \\eta_{\\phi} \\phi + B DivV K_{d} \\alpha dt \\eta_{\\phi} + B Divq_{D} K_{d}^{2} dt^{2} - B Divq_{D} K_{d} dt \\eta_{\\phi} \\phi + B Divq_{D} K_{d} dt \\eta_{\\phi} + B K_{d} Pf_{0} \\alpha dt + B K_{d} Pt_{0} \\alpha dt - B K_{d} Pt_{0} dt - B Pf_{0} \\alpha^{2} \\eta_{\\phi} \\phi + B Pf_{0} \\alpha^{2} \\eta_{\\phi} - K_{d} Pf_{0} \\alpha dt + Pf_{0} \\alpha \\eta_{\\phi} \\phi - Pf_{0} \\alpha \\eta_{\\phi}}{2 B K_{d} \\alpha dt - B K_{d} dt - B \\alpha^{2} \\eta_{\\phi} \\phi + B \\alpha^{2} \\eta_{\\phi} - K_{d} \\alpha dt + \\alpha \\eta_{\\phi} \\phi - \\alpha \\eta_{\\phi}}$"
      ],
      "text/plain": [
       "(B*DivV*K_d**2*dt**2 + B*Divq_D*K_d**2*dt**2 - B*Divq_D*K_d*alpha*dt*eta_phi*phi + B*Divq_D*K_d*alpha*dt*eta_phi + B*K_d*Pf0*alpha*dt + B*K_d*Pt0*alpha*dt - B*K_d*Pt0*dt - B*Pt0*alpha**2*eta_phi*phi + B*Pt0*alpha**2*eta_phi - DivV*K_d*alpha*dt*eta_phi*phi + DivV*K_d*alpha*dt*eta_phi - K_d*Pf0*alpha*dt + Pt0*alpha*eta_phi*phi - Pt0*alpha*eta_phi)/(2*B*K_d*alpha*dt - B*K_d*dt - B*alpha**2*eta_phi*phi + B*alpha**2*eta_phi - K_d*alpha*dt + alpha*eta_phi*phi - alpha*eta_phi) - (B*DivV*K_d**2*dt**2 - B*DivV*K_d*alpha*dt*eta_phi*phi + B*DivV*K_d*alpha*dt*eta_phi + B*Divq_D*K_d**2*dt**2 - B*Divq_D*K_d*dt*eta_phi*phi + B*Divq_D*K_d*dt*eta_phi + B*K_d*Pf0*alpha*dt + B*K_d*Pt0*alpha*dt - B*K_d*Pt0*dt - B*Pf0*alpha**2*eta_phi*phi + B*Pf0*alpha**2*eta_phi - K_d*Pf0*alpha*dt + Pf0*alpha*eta_phi*phi - Pf0*alpha*eta_phi)/(2*B*K_d*alpha*dt - B*K_d*dt - B*alpha**2*eta_phi*phi + B*alpha**2*eta_phi - K_d*alpha*dt + alpha*eta_phi*phi - alpha*eta_phi)"
      ]
     },
     "metadata": {},
     "output_type": "display_data"
    }
   ],
   "source": [
    "# Effective Pressure\n",
    "Pe1 = Pt1 - Pf1\n",
    "display((Pe1))"
   ]
  },
  {
   "cell_type": "code",
   "execution_count": 101,
   "metadata": {},
   "outputs": [],
   "source": [
    "# Corrected pressure\n",
    "divVs, divqD, Pf0, Pt0, Pf, Pt, Kd, a, B, dt = symbols('DivV, Divq_D, Pf0, Pt0, Pf, Pt, K_d, alpha, B, dt')\n",
    "lam, sin_psi, phi = symbols('lamda, sin_psi, phi')\n",
    "dPtdt = (Pt-Pt0)/dt\n",
    "dPfdt = (Pf-Pf0)/dt\n",
    "f1 = divVs + 1/Kd*(dPtdt -   a*dPfdt) + (Pt-Pf)/eta_phi/(1-phi) + 1/(1-phi)*lam*sin_psi\n",
    "f2 = divqD - a/Kd*(dPtdt - 1/B*dPfdt) - (Pt-Pf)/eta_phi/(1-phi) - 1/(1-phi)*lam*sin_psi"
   ]
  },
  {
   "cell_type": "code",
   "execution_count": 102,
   "metadata": {},
   "outputs": [
    {
     "data": {
      "text/latex": [
       "$\\displaystyle \\frac{B DivV K_{d}^{2} dt^{2} + B Divq_{D} K_{d}^{2} dt^{2} - B Divq_{D} K_{d} \\alpha dt \\eta_{\\phi} \\phi + B Divq_{D} K_{d} \\alpha dt \\eta_{\\phi} + B K_{d} Pf_{0} \\alpha dt + B K_{d} Pt_{0} \\alpha dt - B K_{d} Pt_{0} dt - B K_{d} \\alpha dt \\eta_{\\phi} \\lambda sin_{\\psi} - B Pt_{0} \\alpha^{2} \\eta_{\\phi} \\phi + B Pt_{0} \\alpha^{2} \\eta_{\\phi} - DivV K_{d} \\alpha dt \\eta_{\\phi} \\phi + DivV K_{d} \\alpha dt \\eta_{\\phi} - K_{d} Pf_{0} \\alpha dt + K_{d} \\alpha dt \\eta_{\\phi} \\lambda sin_{\\psi} + Pt_{0} \\alpha \\eta_{\\phi} \\phi - Pt_{0} \\alpha \\eta_{\\phi}}{2 B K_{d} \\alpha dt - B K_{d} dt - B \\alpha^{2} \\eta_{\\phi} \\phi + B \\alpha^{2} \\eta_{\\phi} - K_{d} \\alpha dt + \\alpha \\eta_{\\phi} \\phi - \\alpha \\eta_{\\phi}}$"
      ],
      "text/plain": [
       "(B*DivV*K_d**2*dt**2 + B*Divq_D*K_d**2*dt**2 - B*Divq_D*K_d*alpha*dt*eta_phi*phi + B*Divq_D*K_d*alpha*dt*eta_phi + B*K_d*Pf0*alpha*dt + B*K_d*Pt0*alpha*dt - B*K_d*Pt0*dt - B*K_d*alpha*dt*eta_phi*lamda*sin_psi - B*Pt0*alpha**2*eta_phi*phi + B*Pt0*alpha**2*eta_phi - DivV*K_d*alpha*dt*eta_phi*phi + DivV*K_d*alpha*dt*eta_phi - K_d*Pf0*alpha*dt + K_d*alpha*dt*eta_phi*lamda*sin_psi + Pt0*alpha*eta_phi*phi - Pt0*alpha*eta_phi)/(2*B*K_d*alpha*dt - B*K_d*dt - B*alpha**2*eta_phi*phi + B*alpha**2*eta_phi - K_d*alpha*dt + alpha*eta_phi*phi - alpha*eta_phi)"
      ]
     },
     "metadata": {},
     "output_type": "display_data"
    },
    {
     "data": {
      "text/latex": [
       "$\\displaystyle \\frac{B DivV K_{d}^{2} dt^{2} - B DivV K_{d} \\alpha dt \\eta_{\\phi} \\phi + B DivV K_{d} \\alpha dt \\eta_{\\phi} + B Divq_{D} K_{d}^{2} dt^{2} - B Divq_{D} K_{d} dt \\eta_{\\phi} \\phi + B Divq_{D} K_{d} dt \\eta_{\\phi} + B K_{d} Pf_{0} \\alpha dt + B K_{d} Pt_{0} \\alpha dt - B K_{d} Pt_{0} dt + B K_{d} \\alpha dt \\eta_{\\phi} \\lambda sin_{\\psi} - B K_{d} dt \\eta_{\\phi} \\lambda sin_{\\psi} - B Pf_{0} \\alpha^{2} \\eta_{\\phi} \\phi + B Pf_{0} \\alpha^{2} \\eta_{\\phi} - K_{d} Pf_{0} \\alpha dt + Pf_{0} \\alpha \\eta_{\\phi} \\phi - Pf_{0} \\alpha \\eta_{\\phi}}{2 B K_{d} \\alpha dt - B K_{d} dt - B \\alpha^{2} \\eta_{\\phi} \\phi + B \\alpha^{2} \\eta_{\\phi} - K_{d} \\alpha dt + \\alpha \\eta_{\\phi} \\phi - \\alpha \\eta_{\\phi}}$"
      ],
      "text/plain": [
       "(B*DivV*K_d**2*dt**2 - B*DivV*K_d*alpha*dt*eta_phi*phi + B*DivV*K_d*alpha*dt*eta_phi + B*Divq_D*K_d**2*dt**2 - B*Divq_D*K_d*dt*eta_phi*phi + B*Divq_D*K_d*dt*eta_phi + B*K_d*Pf0*alpha*dt + B*K_d*Pt0*alpha*dt - B*K_d*Pt0*dt + B*K_d*alpha*dt*eta_phi*lamda*sin_psi - B*K_d*dt*eta_phi*lamda*sin_psi - B*Pf0*alpha**2*eta_phi*phi + B*Pf0*alpha**2*eta_phi - K_d*Pf0*alpha*dt + Pf0*alpha*eta_phi*phi - Pf0*alpha*eta_phi)/(2*B*K_d*alpha*dt - B*K_d*dt - B*alpha**2*eta_phi*phi + B*alpha**2*eta_phi - K_d*alpha*dt + alpha*eta_phi*phi - alpha*eta_phi)"
      ]
     },
     "metadata": {},
     "output_type": "display_data"
    },
    {
     "name": "stdout",
     "output_type": "stream",
     "text": [
      "(B .* DivV .* K_d .^ 2 .* dt .^ 2 + B .* Divq_D .* K_d .^ 2 .* dt .^ 2 - B .* Divq_D .* K_d .* alpha .* dt .* eta_phi .* phi + B .* Divq_D .* K_d .* alpha .* dt .* eta_phi + B .* K_d .* Pf0 .* alpha .* dt + B .* K_d .* Pt0 .* alpha .* dt - B .* K_d .* Pt0 .* dt - B .* K_d .* alpha .* dt .* eta_phi .* lamda .* sin_psi - B .* Pt0 .* alpha .^ 2 .* eta_phi .* phi + B .* Pt0 .* alpha .^ 2 .* eta_phi - DivV .* K_d .* alpha .* dt .* eta_phi .* phi + DivV .* K_d .* alpha .* dt .* eta_phi - K_d .* Pf0 .* alpha .* dt + K_d .* alpha .* dt .* eta_phi .* lamda .* sin_psi + Pt0 .* alpha .* eta_phi .* phi - Pt0 .* alpha .* eta_phi) ./ (2 * B .* K_d .* alpha .* dt - B .* K_d .* dt - B .* alpha .^ 2 .* eta_phi .* phi + B .* alpha .^ 2 .* eta_phi - K_d .* alpha .* dt + alpha .* eta_phi .* phi - alpha .* eta_phi)\n",
      "(B .* DivV .* K_d .^ 2 .* dt .^ 2 - B .* DivV .* K_d .* alpha .* dt .* eta_phi .* phi + B .* DivV .* K_d .* alpha .* dt .* eta_phi + B .* Divq_D .* K_d .^ 2 .* dt .^ 2 - B .* Divq_D .* K_d .* dt .* eta_phi .* phi + B .* Divq_D .* K_d .* dt .* eta_phi + B .* K_d .* Pf0 .* alpha .* dt + B .* K_d .* Pt0 .* alpha .* dt - B .* K_d .* Pt0 .* dt + B .* K_d .* alpha .* dt .* eta_phi .* lamda .* sin_psi - B .* K_d .* dt .* eta_phi .* lamda .* sin_psi - B .* Pf0 .* alpha .^ 2 .* eta_phi .* phi + B .* Pf0 .* alpha .^ 2 .* eta_phi - K_d .* Pf0 .* alpha .* dt + Pf0 .* alpha .* eta_phi .* phi - Pf0 .* alpha .* eta_phi) ./ (2 * B .* K_d .* alpha .* dt - B .* K_d .* dt - B .* alpha .^ 2 .* eta_phi .* phi + B .* alpha .^ 2 .* eta_phi - K_d .* alpha .* dt + alpha .* eta_phi .* phi - alpha .* eta_phi)\n"
     ]
    }
   ],
   "source": [
    "# Solve for trial pressures\n",
    "sol = solve([f1,f2], [Pt,Pf])\n",
    "Pt1_corr = sol[Pt]\n",
    "Pf1_corr = sol[Pf]\n",
    "display(Pt1_corr)\n",
    "display(Pf1_corr)\n",
    "print(julia_code(Pt1_corr))\n",
    "print(julia_code(Pf1_corr))"
   ]
  },
  {
   "cell_type": "code",
   "execution_count": 103,
   "metadata": {},
   "outputs": [
    {
     "data": {
      "text/latex": [
       "$\\displaystyle \\frac{K_{d} \\alpha dt \\eta_{\\phi} sin_{\\psi} \\left(B - 1\\right)}{\\left(- 2 B K_{d} \\alpha dt + B K_{d} dt + B \\alpha^{2} \\eta_{\\phi} \\phi - B \\alpha^{2} \\eta_{\\phi} + K_{d} \\alpha dt - \\alpha \\eta_{\\phi} \\phi + \\alpha \\eta_{\\phi}\\right) \\sin{\\left(sin_{\\psi} \\right)}}$"
      ],
      "text/plain": [
       "K_d*alpha*dt*eta_phi*sin_psi*(B - 1)/((-2*B*K_d*alpha*dt + B*K_d*dt + B*alpha**2*eta_phi*phi - B*alpha**2*eta_phi + K_d*alpha*dt - alpha*eta_phi*phi + alpha*eta_phi)*sin(sin_psi))"
      ]
     },
     "metadata": {},
     "output_type": "display_data"
    },
    {
     "data": {
      "text/latex": [
       "$\\displaystyle \\frac{B K_{d} dt \\eta_{\\phi} sin_{\\psi} \\left(1 - \\alpha\\right)}{\\left(- 2 B K_{d} \\alpha dt + B K_{d} dt + B \\alpha^{2} \\eta_{\\phi} \\phi - B \\alpha^{2} \\eta_{\\phi} + K_{d} \\alpha dt - \\alpha \\eta_{\\phi} \\phi + \\alpha \\eta_{\\phi}\\right) \\sin{\\left(sin_{\\psi} \\right)}}$"
      ],
      "text/plain": [
       "B*K_d*dt*eta_phi*sin_psi*(1 - alpha)/((-2*B*K_d*alpha*dt + B*K_d*dt + B*alpha**2*eta_phi*phi - B*alpha**2*eta_phi + K_d*alpha*dt - alpha*eta_phi*phi + alpha*eta_phi)*sin(sin_psi))"
      ]
     },
     "metadata": {},
     "output_type": "display_data"
    },
    {
     "name": "stdout",
     "output_type": "stream",
     "text": [
      "mt .= K_d .* alpha .* dt .* eta_phi .* sin_psi .* (B - 1) ./ ((-2 * B .* K_d .* alpha .* dt + B .* K_d .* dt + B .* alpha .^ 2 .* eta_phi .* phi - B .* alpha .^ 2 .* eta_phi + K_d .* alpha .* dt - alpha .* eta_phi .* phi + alpha .* eta_phi) .* sin(sin_psi))\n",
      "mf .= B .* K_d .* dt .* eta_phi .* sin_psi .* (1 - alpha) ./ ((-2 * B .* K_d .* alpha .* dt + B .* K_d .* dt + B .* alpha .^ 2 .* eta_phi .* phi - B .* alpha .^ 2 .* eta_phi + K_d .* alpha .* dt - alpha .* eta_phi .* phi + alpha .* eta_phi) .* sin(sin_psi))\n"
     ]
    }
   ],
   "source": [
    "deltaPt = (Pt1_corr-Pt1).simplify()\n",
    "deltaPf = (Pf1_corr-Pf1).simplify()\n",
    "display(deltaPt/lam/sin(psi))\n",
    "display(deltaPf/lam/sin(psi))\n",
    "print( 'mt .= ' + julia_code(deltaPt/lam/sin(psi)) ) \n",
    "print( 'mf .= ' + julia_code(deltaPf/lam/sin(psi)) )"
   ]
  },
  {
   "cell_type": "code",
   "execution_count": 104,
   "metadata": {},
   "outputs": [
    {
     "data": {
      "text/latex": [
       "$\\displaystyle \\frac{B DivV K_{d}^{2} dt^{2} + B Divq_{D} K_{d}^{2} dt^{2} - B Divq_{D} K_{d} \\alpha dt \\eta_{\\phi} \\phi + B Divq_{D} K_{d} \\alpha dt \\eta_{\\phi} + B K_{d} Pf_{0} \\alpha dt + B K_{d} Pt_{0} \\alpha dt - B K_{d} Pt_{0} dt - B Pt_{0} \\alpha^{2} \\eta_{\\phi} \\phi + B Pt_{0} \\alpha^{2} \\eta_{\\phi} - DivV K_{d} \\alpha dt \\eta_{\\phi} \\phi + DivV K_{d} \\alpha dt \\eta_{\\phi} - K_{d} Pf_{0} \\alpha dt + Pt_{0} \\alpha \\eta_{\\phi} \\phi - Pt_{0} \\alpha \\eta_{\\phi}}{2 B K_{d} \\alpha dt - B K_{d} dt - B \\alpha^{2} \\eta_{\\phi} \\phi + B \\alpha^{2} \\eta_{\\phi} - K_{d} \\alpha dt + \\alpha \\eta_{\\phi} \\phi - \\alpha \\eta_{\\phi}} - \\frac{B DivV K_{d}^{2} dt^{2} - B DivV K_{d} \\alpha dt \\eta_{\\phi} \\phi + B DivV K_{d} \\alpha dt \\eta_{\\phi} + B Divq_{D} K_{d}^{2} dt^{2} - B Divq_{D} K_{d} dt \\eta_{\\phi} \\phi + B Divq_{D} K_{d} dt \\eta_{\\phi} + B K_{d} Pf_{0} \\alpha dt + B K_{d} Pt_{0} \\alpha dt - B K_{d} Pt_{0} dt - B Pf_{0} \\alpha^{2} \\eta_{\\phi} \\phi + B Pf_{0} \\alpha^{2} \\eta_{\\phi} - K_{d} Pf_{0} \\alpha dt + Pf_{0} \\alpha \\eta_{\\phi} \\phi - Pf_{0} \\alpha \\eta_{\\phi}}{2 B K_{d} \\alpha dt - B K_{d} dt - B \\alpha^{2} \\eta_{\\phi} \\phi + B \\alpha^{2} \\eta_{\\phi} - K_{d} \\alpha dt + \\alpha \\eta_{\\phi} \\phi - \\alpha \\eta_{\\phi}}$"
      ],
      "text/plain": [
       "(B*DivV*K_d**2*dt**2 + B*Divq_D*K_d**2*dt**2 - B*Divq_D*K_d*alpha*dt*eta_phi*phi + B*Divq_D*K_d*alpha*dt*eta_phi + B*K_d*Pf0*alpha*dt + B*K_d*Pt0*alpha*dt - B*K_d*Pt0*dt - B*Pt0*alpha**2*eta_phi*phi + B*Pt0*alpha**2*eta_phi - DivV*K_d*alpha*dt*eta_phi*phi + DivV*K_d*alpha*dt*eta_phi - K_d*Pf0*alpha*dt + Pt0*alpha*eta_phi*phi - Pt0*alpha*eta_phi)/(2*B*K_d*alpha*dt - B*K_d*dt - B*alpha**2*eta_phi*phi + B*alpha**2*eta_phi - K_d*alpha*dt + alpha*eta_phi*phi - alpha*eta_phi) - (B*DivV*K_d**2*dt**2 - B*DivV*K_d*alpha*dt*eta_phi*phi + B*DivV*K_d*alpha*dt*eta_phi + B*Divq_D*K_d**2*dt**2 - B*Divq_D*K_d*dt*eta_phi*phi + B*Divq_D*K_d*dt*eta_phi + B*K_d*Pf0*alpha*dt + B*K_d*Pt0*alpha*dt - B*K_d*Pt0*dt - B*Pf0*alpha**2*eta_phi*phi + B*Pf0*alpha**2*eta_phi - K_d*Pf0*alpha*dt + Pf0*alpha*eta_phi*phi - Pf0*alpha*eta_phi)/(2*B*K_d*alpha*dt - B*K_d*dt - B*alpha**2*eta_phi*phi + B*alpha**2*eta_phi - K_d*alpha*dt + alpha*eta_phi*phi - alpha*eta_phi)"
      ]
     },
     "metadata": {},
     "output_type": "display_data"
    }
   ],
   "source": [
    "# Effective Pressure\n",
    "Pe1 = Pt1 - Pf1\n",
    "display((Pe1))"
   ]
  },
  {
   "cell_type": "code",
   "execution_count": 105,
   "metadata": {},
   "outputs": [],
   "source": [
    "phi0, K_phi = symbols('phi0, K_phi')\n",
    "Pfc, Ptc = symbols('Pfc, Ptc')\n",
    "fphi = (phi - phi0)/dt - 1/K_phi*( (Pfc-Pf0)/dt - (Ptc-Pt0)/dt) + 1/eta_phi*(Pfc-Ptc) - lam*sin(psi)\n",
    "phi_corr = solve(fphi,phi)[0]"
   ]
  },
  {
   "cell_type": "code",
   "execution_count": 111,
   "metadata": {},
   "outputs": [
    {
     "data": {
      "text/latex": [
       "$\\displaystyle \\frac{K_{\\phi} dt \\left(- Pf + Pt\\right) + K_{\\phi} \\eta_{\\phi} \\phi_{0} + \\eta_{\\phi} \\left(Pf - Pf_{0} - Pt + Pt_{0}\\right)}{K_{\\phi} \\eta_{\\phi}}$"
      ],
      "text/plain": [
       "(K_phi*dt*(-Pf + Pt) + K_phi*eta_phi*phi0 + eta_phi*(Pf - Pf0 - Pt + Pt0))/(K_phi*eta_phi)"
      ]
     },
     "metadata": {},
     "output_type": "display_data"
    },
    {
     "data": {
      "text/latex": [
       "$\\displaystyle \\frac{K_{\\phi} dt \\left(- Pfc + Ptc\\right) + K_{\\phi} \\eta_{\\phi} \\left(dt \\lambda \\sin{\\left(sin_{\\psi} \\right)} + \\phi_{0}\\right) + \\eta_{\\phi} \\left(- Pf_{0} + Pfc + Pt_{0} - Ptc\\right)}{K_{\\phi} \\eta_{\\phi}}$"
      ],
      "text/plain": [
       "(K_phi*dt*(-Pfc + Ptc) + K_phi*eta_phi*(dt*lamda*sin(sin_psi) + phi0) + eta_phi*(-Pf0 + Pfc + Pt0 - Ptc))/(K_phi*eta_phi)"
      ]
     },
     "metadata": {},
     "output_type": "display_data"
    },
    {
     "data": {
      "text/latex": [
       "$\\displaystyle \\frac{K_{\\phi} dt \\eta_{\\phi} \\lambda \\sin{\\left(sin_{\\psi} \\right)} + K_{\\phi} dt \\left(Pf - Pfc - Pt + Ptc\\right) + \\eta_{\\phi} \\left(- Pf + Pfc + Pt - Ptc\\right)}{K_{\\phi} \\eta_{\\phi}}$"
      ],
      "text/plain": [
       "(K_phi*dt*eta_phi*lamda*sin(sin_psi) + K_phi*dt*(Pf - Pfc - Pt + Ptc) + eta_phi*(-Pf + Pfc + Pt - Ptc))/(K_phi*eta_phi)"
      ]
     },
     "metadata": {},
     "output_type": "display_data"
    }
   ],
   "source": [
    "delta_phi = (phi_corr-phi_trial).simplify()\n",
    "display(phi_trial)\n",
    "display(phi_corr)\n",
    "display(delta_phi.simplify())"
   ]
  },
  {
   "cell_type": "code",
   "execution_count": null,
   "metadata": {},
   "outputs": [],
   "source": []
  }
 ],
 "metadata": {
  "kernelspec": {
   "display_name": "Python 3",
   "language": "python",
   "name": "python3"
  },
  "language_info": {
   "codemirror_mode": {
    "name": "ipython",
    "version": 3
   },
   "file_extension": ".py",
   "mimetype": "text/x-python",
   "name": "python",
   "nbconvert_exporter": "python",
   "pygments_lexer": "ipython3",
   "version": "3.9.6"
  }
 },
 "nbformat": 4,
 "nbformat_minor": 2
}
